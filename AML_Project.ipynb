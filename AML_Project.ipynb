{
  "nbformat": 4,
  "nbformat_minor": 0,
  "metadata": {
    "colab": {
      "name": "AML_Project.ipynb",
      "version": "0.3.2",
      "provenance": [],
      "collapsed_sections": [],
      "toc_visible": true
    },
    "kernelspec": {
      "name": "python3",
      "display_name": "Python 3"
    },
    "accelerator": "GPU"
  },
  "cells": [
    {
      "metadata": {
        "id": "rHzd-_1ic9RI",
        "colab_type": "text"
      },
      "cell_type": "markdown",
      "source": [
        "# Get Data & clear previous data"
      ]
    },
    {
      "metadata": {
        "id": "P6ZlgRCqZljA",
        "colab_type": "text"
      },
      "cell_type": "markdown",
      "source": [
        "We will clone my github repository that contains the input data and also the pretrained weights"
      ]
    },
    {
      "metadata": {
        "id": "hR8rB7WNZfPU",
        "colab_type": "code",
        "outputId": "ba395aed-d100-4f5a-e3bc-a58d430f7b73",
        "colab": {
          "base_uri": "https://localhost:8080/",
          "height": 140
        }
      },
      "cell_type": "code",
      "source": [
        "!rm -rf *\n",
        "!git clone https://github.com/adityagupta1089/Captcha-Generator-using-cGANs.git"
      ],
      "execution_count": 12,
      "outputs": [
        {
          "output_type": "stream",
          "text": [
            "Cloning into 'Captcha-Generator-using-cGANs'...\n",
            "remote: Enumerating objects: 1079, done.\u001b[K\n",
            "remote: Counting objects:   0% (1/1079)   \u001b[K\rremote: Counting objects:   1% (11/1079)   \u001b[K\rremote: Counting objects:   2% (22/1079)   \u001b[K\rremote: Counting objects:   3% (33/1079)   \u001b[K\rremote: Counting objects:   4% (44/1079)   \u001b[K\rremote: Counting objects:   5% (54/1079)   \u001b[K\rremote: Counting objects:   6% (65/1079)   \u001b[K\rremote: Counting objects:   7% (76/1079)   \u001b[K\rremote: Counting objects:   8% (87/1079)   \u001b[K\rremote: Counting objects:   9% (98/1079)   \u001b[K\rremote: Counting objects:  10% (108/1079)   \u001b[K\rremote: Counting objects:  11% (119/1079)   \u001b[K\rremote: Counting objects:  12% (130/1079)   \u001b[K\rremote: Counting objects:  13% (141/1079)   \u001b[K\rremote: Counting objects:  14% (152/1079)   \u001b[K\rremote: Counting objects:  15% (162/1079)   \u001b[K\rremote: Counting objects:  16% (173/1079)   \u001b[K\rremote: Counting objects:  17% (184/1079)   \u001b[K\rremote: Counting objects:  18% (195/1079)   \u001b[K\rremote: Counting objects:  19% (206/1079)   \u001b[K\rremote: Counting objects:  20% (216/1079)   \u001b[K\rremote: Counting objects:  21% (227/1079)   \u001b[K\rremote: Counting objects:  22% (238/1079)   \u001b[K\rremote: Counting objects:  23% (249/1079)   \u001b[K\rremote: Counting objects:  24% (259/1079)   \u001b[K\rremote: Counting objects:  25% (270/1079)   \u001b[K\rremote: Counting objects:  26% (281/1079)   \u001b[K\rremote: Counting objects:  27% (292/1079)   \u001b[K\rremote: Counting objects:  28% (303/1079)   \u001b[K\rremote: Counting objects:  29% (313/1079)   \u001b[K\rremote: Counting objects:  30% (324/1079)   \u001b[K\rremote: Counting objects:  31% (335/1079)   \u001b[K\rremote: Counting objects:  32% (346/1079)   \u001b[K\rremote: Counting objects:  33% (357/1079)   \u001b[K\rremote: Counting objects:  34% (367/1079)   \u001b[K\rremote: Counting objects:  35% (378/1079)   \u001b[K\rremote: Counting objects:  36% (389/1079)   \u001b[K\rremote: Counting objects:  37% (400/1079)   \u001b[K\rremote: Counting objects:  38% (411/1079)   \u001b[K\rremote: Counting objects:  39% (421/1079)   \u001b[K\rremote: Counting objects:  40% (432/1079)   \u001b[K\rremote: Counting objects:  41% (443/1079)   \u001b[K\rremote: Counting objects:  42% (454/1079)   \u001b[K\rremote: Counting objects:  43% (464/1079)   \u001b[K\rremote: Counting objects:  44% (475/1079)   \u001b[K\rremote: Counting objects:  45% (486/1079)   \u001b[K\rremote: Counting objects:  46% (497/1079)   \u001b[K\rremote: Counting objects:  47% (508/1079)   \u001b[K\rremote: Counting objects:  48% (518/1079)   \u001b[K\rremote: Counting objects:  49% (529/1079)   \u001b[K\rremote: Counting objects:  50% (540/1079)   \u001b[K\rremote: Counting objects:  51% (551/1079)   \u001b[K\rremote: Counting objects:  52% (562/1079)   \u001b[K\rremote: Counting objects:  53% (572/1079)   \u001b[K\rremote: Counting objects:  54% (583/1079)   \u001b[K\rremote: Counting objects:  55% (594/1079)   \u001b[K\rremote: Counting objects:  56% (605/1079)   \u001b[K\rremote: Counting objects:  57% (616/1079)   \u001b[K\rremote: Counting objects:  58% (626/1079)   \u001b[K\rremote: Counting objects:  59% (637/1079)   \u001b[K\rremote: Counting objects:  60% (648/1079)   \u001b[K\rremote: Counting objects:  61% (659/1079)   \u001b[K\rremote: Counting objects:  62% (669/1079)   \u001b[K\rremote: Counting objects:  63% (680/1079)   \u001b[K\rremote: Counting objects:  64% (691/1079)   \u001b[K\rremote: Counting objects:  65% (702/1079)   \u001b[K\rremote: Counting objects:  66% (713/1079)   \u001b[K\rremote: Counting objects:  67% (723/1079)   \u001b[K\rremote: Counting objects:  68% (734/1079)   \u001b[K\rremote: Counting objects:  69% (745/1079)   \u001b[K\rremote: Counting objects:  70% (756/1079)   \u001b[K\rremote: Counting objects:  71% (767/1079)   \u001b[K\rremote: Counting objects:  72% (777/1079)   \u001b[K\rremote: Counting objects:  73% (788/1079)   \u001b[K\rremote: Counting objects:  74% (799/1079)   \u001b[K\rremote: Counting objects:  75% (810/1079)   \u001b[K\rremote: Counting objects:  76% (821/1079)   \u001b[K\rremote: Counting objects:  77% (831/1079)   \u001b[K\rremote: Counting objects:  78% (842/1079)   \u001b[K\rremote: Counting objects:  79% (853/1079)   \u001b[K\rremote: Counting objects:  80% (864/1079)   \u001b[K\rremote: Counting objects:  81% (874/1079)   \u001b[K\rremote: Counting objects:  82% (885/1079)   \u001b[K\rremote: Counting objects:  83% (896/1079)   \u001b[K\rremote: Counting objects:  84% (907/1079)   \u001b[K\rremote: Counting objects:  85% (918/1079)   \u001b[K\rremote: Counting objects:  86% (928/1079)   \u001b[K\rremote: Counting objects:  87% (939/1079)   \u001b[K\rremote: Counting objects:  88% (950/1079)   \u001b[K\rremote: Counting objects:  89% (961/1079)   \u001b[K\rremote: Counting objects:  90% (972/1079)   \u001b[K\rremote: Counting objects:  91% (982/1079)   \u001b[K\rremote: Counting objects:  92% (993/1079)   \u001b[K\rremote: Counting objects:  93% (1004/1079)   \u001b[K\rremote: Counting objects:  94% (1015/1079)   \u001b[K\rremote: Counting objects:  95% (1026/1079)   \u001b[K\rremote: Counting objects:  96% (1036/1079)   \u001b[K\rremote: Counting objects:  97% (1047/1079)   \u001b[K\rremote: Counting objects:  98% (1058/1079)   \u001b[K\rremote: Counting objects:  99% (1069/1079)   \u001b[K\rremote: Counting objects: 100% (1079/1079)   \u001b[K\rremote: Counting objects: 100% (1079/1079), done.\u001b[K\n",
            "remote: Compressing objects: 100% (1076/1076), done.\u001b[K\n",
            "remote: Total 1079 (delta 1), reused 1079 (delta 1), pack-reused 0\u001b[K\n",
            "Receiving objects: 100% (1079/1079), 20.16 MiB | 21.42 MiB/s, done.\n",
            "Resolving deltas: 100% (1/1), done.\n"
          ],
          "name": "stdout"
        }
      ]
    },
    {
      "metadata": {
        "id": "Y4Ooj3hDZrh5",
        "colab_type": "text"
      },
      "cell_type": "markdown",
      "source": [
        "We will now move the input folder out of clone repo and remove the repo folder"
      ]
    },
    {
      "metadata": {
        "id": "PAH1dGZBdZge",
        "colab_type": "code",
        "colab": {}
      },
      "cell_type": "code",
      "source": [
        "!mv Captcha-Generator-using-cGANs/input/ input/\n",
        "!rm -rf Captcha-Generator-using-cGANs"
      ],
      "execution_count": 0,
      "outputs": []
    },
    {
      "metadata": {
        "id": "qyqYPJt5eDWx",
        "colab_type": "text"
      },
      "cell_type": "markdown",
      "source": [
        "# Read Data"
      ]
    },
    {
      "metadata": {
        "id": "5YFYkPjIZwcf",
        "colab_type": "text"
      },
      "cell_type": "markdown",
      "source": [
        "We define three functions that will encode and decode our labels and one-hot enconding back and forth. For this we have assigned each character in 5 character label a one-hot vector of size 36 (26 alphabets and 10 numbers).\n",
        "\n",
        "*   `index(c)` converts `c`(alphabet or number)  to `0-35`\n",
        "*   `character` converts `v`(number) to `a-z0-9`\n",
        "*  `one_hot_label(label)` converts `label` to vector of size $36*5=180$\n",
        "*  `get_label(one_hot)` converts vector of size `180` to string of size `5`\n",
        "\n"
      ]
    },
    {
      "metadata": {
        "id": "091bzN60J9cf",
        "colab_type": "code",
        "colab": {}
      },
      "cell_type": "code",
      "source": [
        "ALPHABETS = 26\n",
        "NUMBERS = 10\n",
        "CHARACTERS = 5\n",
        "TOTAL = ALPHABETS + NUMBERS\n",
        "\n",
        "def index(c):\n",
        "    v = ord(c)\n",
        "    if 'a' <= c and c <= 'z':\n",
        "        return v - ord('a')\n",
        "    elif '0' <= c and c <= '9':\n",
        "        return ALPHABETS + v - ord('0')\n",
        "    else:\n",
        "        return TOTAL + 1\n",
        "    \n",
        "def character(v):\n",
        "    if 0 <= v and v <= ALPHABETS - 1:\n",
        "        return chr(v + ord('a'))\n",
        "    elif ALPHABETS <= v and v <= TOTAL - 1:\n",
        "        return chr(v - ALPHABETS + ord('0'))\n",
        "    else:\n",
        "        return '?'\n",
        "\n",
        "def one_hot_label(label):\n",
        "    result = []\n",
        "    for c in label:\n",
        "        char_result = [0] * TOTAL\n",
        "        char_result[index(c)] = 1\n",
        "        result.append(char_result)\n",
        "    return result\n",
        "\n",
        "def get_label(one_hot):\n",
        "    result = \"\"\n",
        "    for i in range(0, 180, 36):\n",
        "        v = np.argmax(one_hot[i:i+36])\n",
        "        result = result + character(v)\n",
        "    return result"
      ],
      "execution_count": 0,
      "outputs": []
    },
    {
      "metadata": {
        "id": "mUb1qvaPatVz",
        "colab_type": "text"
      },
      "cell_type": "markdown",
      "source": [
        "Now we read all data and create our two input arrays `X` and `Y`"
      ]
    },
    {
      "metadata": {
        "id": "CCv4VXjVeP-z",
        "colab_type": "code",
        "outputId": "ba6ddab0-bb83-475a-cc13-944b34e8f772",
        "colab": {
          "base_uri": "https://localhost:8080/",
          "height": 52
        }
      },
      "cell_type": "code",
      "source": [
        "import cv2\n",
        "from PIL import Image as image\n",
        "from os import listdir\n",
        "import numpy as np\n",
        "\n",
        "def loadData(path):\n",
        "    images = listdir(path)\n",
        "    X = []\n",
        "    Y = []\n",
        "    for y in images:\n",
        "        x = cv2.imread(path + y)\n",
        "        X.append(x)\n",
        "        Y.append(one_hot_label(y.split('.')[0]))\n",
        "        \n",
        "    X = np.array(X)\n",
        "    Y = np.array(Y)\n",
        "    return X, Y\n",
        "\n",
        "path = \"input/\"\n",
        "\n",
        "X, Y = loadData(path)\n",
        "\n",
        "img_shape = X.shape[1:]\n",
        "print(X.shape)\n",
        "print(Y.shape)\n"
      ],
      "execution_count": 31,
      "outputs": [
        {
          "output_type": "stream",
          "text": [
            "(1070, 50, 200, 3)\n",
            "(1070, 5, 36)\n"
          ],
          "name": "stdout"
        }
      ]
    },
    {
      "metadata": {
        "id": "tzte4yHE376B",
        "colab_type": "text"
      },
      "cell_type": "markdown",
      "source": [
        "#Train Test Split"
      ]
    },
    {
      "metadata": {
        "id": "wxavKVoRayi2",
        "colab_type": "text"
      },
      "cell_type": "markdown",
      "source": [
        "We split the data into test and train in ratio of 20:80"
      ]
    },
    {
      "metadata": {
        "id": "jmxKhcNz4J3e",
        "colab_type": "code",
        "colab": {
          "base_uri": "https://localhost:8080/",
          "height": 87
        },
        "outputId": "8eb2e423-7353-47f6-d31a-fb55a410d10f"
      },
      "cell_type": "code",
      "source": [
        "from sklearn.model_selection import train_test_split\n",
        "\n",
        "X_train, X_test, Y_train, Y_test = train_test_split(X, Y, \n",
        "                                                    test_size=0.2, \n",
        "                                                    random_state=0)\n",
        "\n",
        "print(X_train.shape)\n",
        "print(X_test.shape)\n",
        "print(Y_train.shape)\n",
        "print(Y_test.shape)"
      ],
      "execution_count": 38,
      "outputs": [
        {
          "output_type": "stream",
          "text": [
            "(856, 50, 200, 3)\n",
            "(214, 50, 200, 3)\n",
            "(856, 5, 36)\n",
            "(214, 5, 36)\n"
          ],
          "name": "stdout"
        }
      ]
    },
    {
      "metadata": {
        "id": "AZkrKXaK3Ual",
        "colab_type": "text"
      },
      "cell_type": "markdown",
      "source": [
        "We also split `Y` into `5` different arrays for each output"
      ]
    },
    {
      "metadata": {
        "id": "y7TbY9M66hLO",
        "colab_type": "code",
        "colab": {}
      },
      "cell_type": "code",
      "source": [
        "def split_fun(arr):\n",
        "    N = arr.shape[0]\n",
        "    result = []\n",
        "    for Yi in np.split(arr, CHARACTERS, axis=1):\n",
        "        result.append(Yi.reshape(N, TOTAL))\n",
        "    return result\n",
        "\n",
        "def combine_fun(arr):\n",
        "    return np.hstack(tuple(arr))"
      ],
      "execution_count": 0,
      "outputs": []
    },
    {
      "metadata": {
        "id": "MQysz5Po3ZfC",
        "colab_type": "code",
        "colab": {
          "base_uri": "https://localhost:8080/",
          "height": 52
        },
        "outputId": "7b0a0cc2-45d6-4c86-e99f-6d9325239e2f"
      },
      "cell_type": "code",
      "source": [
        "Y_train = split_fun(Y_train)\n",
        "Y_test = split_fun(Y_test)\n",
        "\n",
        "print([y.shape for y in Y_train])\n",
        "print([y.shape for y in Y_test])"
      ],
      "execution_count": 39,
      "outputs": [
        {
          "output_type": "stream",
          "text": [
            "[(856, 36), (856, 36), (856, 36), (856, 36), (856, 36)]\n",
            "[(214, 36), (214, 36), (214, 36), (214, 36), (214, 36)]\n"
          ],
          "name": "stdout"
        }
      ]
    },
    {
      "metadata": {
        "id": "CDB-GEac0S2J",
        "colab_type": "text"
      },
      "cell_type": "markdown",
      "source": [
        "# Define Models"
      ]
    },
    {
      "metadata": {
        "id": "k76CfZ4VSpOS",
        "colab_type": "text"
      },
      "cell_type": "markdown",
      "source": [
        "## Solver"
      ]
    },
    {
      "metadata": {
        "id": "LfYQ096isIKp",
        "colab_type": "text"
      },
      "cell_type": "markdown",
      "source": [
        "### Model"
      ]
    },
    {
      "metadata": {
        "id": "N_CMYk1LbkEA",
        "colab_type": "text"
      },
      "cell_type": "markdown",
      "source": [
        "Now we define a model similar to VGGnet"
      ]
    },
    {
      "metadata": {
        "id": "eYtYpuQX0OIf",
        "colab_type": "code",
        "outputId": "320e7b8f-db42-48d5-a5a0-0ecace2aee3f",
        "colab": {
          "base_uri": "https://localhost:8080/",
          "height": 457
        }
      },
      "cell_type": "code",
      "source": [
        "from keras.models import Sequential, Model\n",
        "from keras.layers import (\n",
        "     Dense, \n",
        "     Conv2D,\n",
        "     Input,\n",
        "     BatchNormalization, \n",
        "     MaxPooling2D, \n",
        "     Flatten, \n",
        "     Activation, \n",
        "     Dropout)\n",
        "from keras import backend as K\n",
        "import tensorflow as tf\n",
        "\n",
        "\n",
        "def my_solver():\n",
        "    model = Sequential(name=\"ConvPart\")\n",
        "    \n",
        "    input_shape = X.shape[1:]\n",
        "    \n",
        "    model.add(Conv2D(64, (5, 5), input_shape=input_shape, \n",
        "                     activation='relu', padding='same'))\n",
        "    model.add(Conv2D(64, (5, 5), activation='relu', padding='same'))\n",
        "    model.add(BatchNormalization())\n",
        "    model.add(MaxPooling2D(pool_size=(2, 2)))\n",
        "    \n",
        "    model.add(Conv2D(64, (5, 5), activation='relu', padding='same'))\n",
        "    model.add(Conv2D(64, (5, 5), activation='relu', padding='same'))\n",
        "    model.add(BatchNormalization())\n",
        "    model.add(MaxPooling2D(pool_size=(2, 2)))\n",
        "    \n",
        "    model.add(Conv2D(64, (5, 5), activation='relu', padding='same'))\n",
        "    model.add(Conv2D(64, (5, 5), activation='relu', padding='same'))\n",
        "    model.add(BatchNormalization())\n",
        "    model.add(MaxPooling2D(pool_size=(2, 2)))\n",
        "    \n",
        "    model.add(Conv2D(64, (5, 5), activation='relu', padding='same'))\n",
        "    model.add(Conv2D(64, (5, 5), activation='relu', padding='same'))\n",
        "    model.add(BatchNormalization())\n",
        "    model.add(MaxPooling2D(pool_size=(2, 2)))\n",
        "    \n",
        "    model.add(Flatten())\n",
        "    model.add(Dense(1024))\n",
        "    model.add(BatchNormalization())\n",
        "    model.add(Activation('relu'))\n",
        "    model.add(Dropout(0.5))\n",
        "        \n",
        "    model_input = Input(shape=input_shape, name=\"Input\")\n",
        "    \n",
        "    outputs = []\n",
        "    \n",
        "    for i in range(0, CHARACTERS):\n",
        "        outputs.append(Dense(TOTAL, activation='softmax', name=\"D\" + str(i))(model(model_input)))\n",
        "        \n",
        "    complete_model = Model(model_input, outputs)\n",
        "    \n",
        "    losses = ['categorical_crossentropy'] * CHARACTERS\n",
        "    \n",
        "    complete_model.compile(loss=losses, metrics=['categorical_accuracy'], optimizer='adam')\n",
        "    \n",
        "    return complete_model\n",
        "\n",
        "solver = my_solver()\n",
        "solver.summary()"
      ],
      "execution_count": 44,
      "outputs": [
        {
          "output_type": "stream",
          "text": [
            "__________________________________________________________________________________________________\n",
            "Layer (type)                    Output Shape         Param #     Connected to                     \n",
            "==================================================================================================\n",
            "Input (InputLayer)              (None, 50, 200, 3)   0                                            \n",
            "__________________________________________________________________________________________________\n",
            "ConvPart (Sequential)           (None, 1024)         3087552     Input[0][0]                      \n",
            "                                                                 Input[0][0]                      \n",
            "                                                                 Input[0][0]                      \n",
            "                                                                 Input[0][0]                      \n",
            "                                                                 Input[0][0]                      \n",
            "__________________________________________________________________________________________________\n",
            "D0 (Dense)                      (None, 36)           36900       ConvPart[1][0]                   \n",
            "__________________________________________________________________________________________________\n",
            "D1 (Dense)                      (None, 36)           36900       ConvPart[2][0]                   \n",
            "__________________________________________________________________________________________________\n",
            "D2 (Dense)                      (None, 36)           36900       ConvPart[3][0]                   \n",
            "__________________________________________________________________________________________________\n",
            "D3 (Dense)                      (None, 36)           36900       ConvPart[4][0]                   \n",
            "__________________________________________________________________________________________________\n",
            "D4 (Dense)                      (None, 36)           36900       ConvPart[5][0]                   \n",
            "==================================================================================================\n",
            "Total params: 3,272,052\n",
            "Trainable params: 3,269,492\n",
            "Non-trainable params: 2,560\n",
            "__________________________________________________________________________________________________\n"
          ],
          "name": "stdout"
        }
      ]
    },
    {
      "metadata": {
        "id": "oacYzCS-cMpb",
        "colab_type": "text"
      },
      "cell_type": "markdown",
      "source": [
        "### Training"
      ]
    },
    {
      "metadata": {
        "colab_type": "code",
        "outputId": "6a0ef264-2afc-482b-f078-e205a6c61ed7",
        "id": "ZYapxzBDUeql",
        "colab": {
          "base_uri": "https://localhost:8080/",
          "height": 5334
        }
      },
      "cell_type": "code",
      "source": [
        "h = solver.fit(X_train, \n",
        "           Y_train, \n",
        "           batch_size=8, \n",
        "           epochs=150, \n",
        "           verbose=1, \n",
        "           validation_data=(X_test, Y_test), \n",
        "           shuffle=True)"
      ],
      "execution_count": 69,
      "outputs": [
        {
          "output_type": "stream",
          "text": [
            "Train on 856 samples, validate on 214 samples\n",
            "Epoch 1/150\n",
            "856/856 [==============================] - 13s 15ms/step - loss: 4.9930 - D0_loss: 0.8589 - D1_loss: 0.8954 - D2_loss: 1.1580 - D3_loss: 1.0249 - D4_loss: 1.0557 - D0_categorical_accuracy: 0.7313 - D1_categorical_accuracy: 0.7220 - D2_categorical_accuracy: 0.6507 - D3_categorical_accuracy: 0.6682 - D4_categorical_accuracy: 0.6659 - val_loss: 60.4121 - val_D0_loss: 10.9920 - val_D1_loss: 12.4194 - val_D2_loss: 15.1853 - val_D3_loss: 12.2178 - val_D4_loss: 9.5976 - val_D0_categorical_accuracy: 0.2196 - val_D1_categorical_accuracy: 0.1449 - val_D2_categorical_accuracy: 0.0327 - val_D3_categorical_accuracy: 0.1542 - val_D4_categorical_accuracy: 0.2944\n",
            "Epoch 2/150\n",
            "856/856 [==============================] - 12s 14ms/step - loss: 3.2814 - D0_loss: 0.4452 - D1_loss: 0.6378 - D2_loss: 0.7258 - D3_loss: 0.8508 - D4_loss: 0.6219 - D0_categorical_accuracy: 0.8563 - D1_categorical_accuracy: 0.8014 - D2_categorical_accuracy: 0.7815 - D3_categorical_accuracy: 0.7395 - D4_categorical_accuracy: 0.7909 - val_loss: 3.3710 - val_D0_loss: 0.4183 - val_D1_loss: 0.4116 - val_D2_loss: 0.7514 - val_D3_loss: 0.8937 - val_D4_loss: 0.8961 - val_D0_categorical_accuracy: 0.8692 - val_D1_categorical_accuracy: 0.8879 - val_D2_categorical_accuracy: 0.8037 - val_D3_categorical_accuracy: 0.7430 - val_D4_categorical_accuracy: 0.7290\n",
            "Epoch 3/150\n",
            "856/856 [==============================] - 12s 14ms/step - loss: 1.5914 - D0_loss: 0.2140 - D1_loss: 0.2789 - D2_loss: 0.3756 - D3_loss: 0.3976 - D4_loss: 0.3254 - D0_categorical_accuracy: 0.9439 - D1_categorical_accuracy: 0.9112 - D2_categorical_accuracy: 0.8785 - D3_categorical_accuracy: 0.8867 - D4_categorical_accuracy: 0.8949 - val_loss: 1.6754 - val_D0_loss: 0.2590 - val_D1_loss: 0.2593 - val_D2_loss: 0.4923 - val_D3_loss: 0.4216 - val_D4_loss: 0.2432 - val_D0_categorical_accuracy: 0.9112 - val_D1_categorical_accuracy: 0.9206 - val_D2_categorical_accuracy: 0.8692 - val_D3_categorical_accuracy: 0.8551 - val_D4_categorical_accuracy: 0.8879\n",
            "Epoch 4/150\n",
            "856/856 [==============================] - 12s 14ms/step - loss: 0.9699 - D0_loss: 0.1194 - D1_loss: 0.1775 - D2_loss: 0.2374 - D3_loss: 0.2438 - D4_loss: 0.1918 - D0_categorical_accuracy: 0.9790 - D1_categorical_accuracy: 0.9474 - D2_categorical_accuracy: 0.9229 - D3_categorical_accuracy: 0.9147 - D4_categorical_accuracy: 0.9451 - val_loss: 1.9450 - val_D0_loss: 0.2679 - val_D1_loss: 0.1386 - val_D2_loss: 0.5446 - val_D3_loss: 0.5631 - val_D4_loss: 0.4309 - val_D0_categorical_accuracy: 0.8925 - val_D1_categorical_accuracy: 0.9720 - val_D2_categorical_accuracy: 0.8271 - val_D3_categorical_accuracy: 0.7804 - val_D4_categorical_accuracy: 0.8411\n",
            "Epoch 5/150\n",
            "856/856 [==============================] - 12s 14ms/step - loss: 0.7023 - D0_loss: 0.1063 - D1_loss: 0.1356 - D2_loss: 0.1400 - D3_loss: 0.1940 - D4_loss: 0.1264 - D0_categorical_accuracy: 0.9720 - D1_categorical_accuracy: 0.9626 - D2_categorical_accuracy: 0.9579 - D3_categorical_accuracy: 0.9346 - D4_categorical_accuracy: 0.9650 - val_loss: 1.1194 - val_D0_loss: 0.0973 - val_D1_loss: 0.1380 - val_D2_loss: 0.3181 - val_D3_loss: 0.3528 - val_D4_loss: 0.2131 - val_D0_categorical_accuracy: 0.9720 - val_D1_categorical_accuracy: 0.9579 - val_D2_categorical_accuracy: 0.9346 - val_D3_categorical_accuracy: 0.8925 - val_D4_categorical_accuracy: 0.9486\n",
            "Epoch 6/150\n",
            "856/856 [==============================] - 12s 14ms/step - loss: 0.5919 - D0_loss: 0.0882 - D1_loss: 0.1085 - D2_loss: 0.1715 - D3_loss: 0.1167 - D4_loss: 0.1069 - D0_categorical_accuracy: 0.9813 - D1_categorical_accuracy: 0.9708 - D2_categorical_accuracy: 0.9439 - D3_categorical_accuracy: 0.9696 - D4_categorical_accuracy: 0.9696 - val_loss: 1.0688 - val_D0_loss: 0.1585 - val_D1_loss: 0.1313 - val_D2_loss: 0.3312 - val_D3_loss: 0.3231 - val_D4_loss: 0.1246 - val_D0_categorical_accuracy: 0.9626 - val_D1_categorical_accuracy: 0.9720 - val_D2_categorical_accuracy: 0.9206 - val_D3_categorical_accuracy: 0.8925 - val_D4_categorical_accuracy: 0.9626\n",
            "Epoch 7/150\n",
            "856/856 [==============================] - 12s 14ms/step - loss: 0.4985 - D0_loss: 0.0701 - D1_loss: 0.0808 - D2_loss: 0.1332 - D3_loss: 0.1170 - D4_loss: 0.0974 - D0_categorical_accuracy: 0.9860 - D1_categorical_accuracy: 0.9836 - D2_categorical_accuracy: 0.9638 - D3_categorical_accuracy: 0.9638 - D4_categorical_accuracy: 0.9743 - val_loss: 0.9148 - val_D0_loss: 0.1486 - val_D1_loss: 0.1300 - val_D2_loss: 0.2694 - val_D3_loss: 0.2494 - val_D4_loss: 0.1175 - val_D0_categorical_accuracy: 0.9720 - val_D1_categorical_accuracy: 0.9673 - val_D2_categorical_accuracy: 0.9252 - val_D3_categorical_accuracy: 0.9019 - val_D4_categorical_accuracy: 0.9720\n",
            "Epoch 8/150\n",
            "856/856 [==============================] - 12s 14ms/step - loss: 0.4330 - D0_loss: 0.0794 - D1_loss: 0.0756 - D2_loss: 0.0956 - D3_loss: 0.1136 - D4_loss: 0.0688 - D0_categorical_accuracy: 0.9766 - D1_categorical_accuracy: 0.9790 - D2_categorical_accuracy: 0.9720 - D3_categorical_accuracy: 0.9626 - D4_categorical_accuracy: 0.9801 - val_loss: 0.7968 - val_D0_loss: 0.1313 - val_D1_loss: 0.1163 - val_D2_loss: 0.2319 - val_D3_loss: 0.2396 - val_D4_loss: 0.0777 - val_D0_categorical_accuracy: 0.9720 - val_D1_categorical_accuracy: 0.9626 - val_D2_categorical_accuracy: 0.9346 - val_D3_categorical_accuracy: 0.9346 - val_D4_categorical_accuracy: 0.9673\n",
            "Epoch 9/150\n",
            "856/856 [==============================] - 12s 14ms/step - loss: 0.3453 - D0_loss: 0.0412 - D1_loss: 0.0756 - D2_loss: 0.0852 - D3_loss: 0.0746 - D4_loss: 0.0687 - D0_categorical_accuracy: 0.9907 - D1_categorical_accuracy: 0.9813 - D2_categorical_accuracy: 0.9825 - D3_categorical_accuracy: 0.9836 - D4_categorical_accuracy: 0.9825 - val_loss: 0.7687 - val_D0_loss: 0.0789 - val_D1_loss: 0.1148 - val_D2_loss: 0.2022 - val_D3_loss: 0.2198 - val_D4_loss: 0.1529 - val_D0_categorical_accuracy: 0.9766 - val_D1_categorical_accuracy: 0.9579 - val_D2_categorical_accuracy: 0.9439 - val_D3_categorical_accuracy: 0.9206 - val_D4_categorical_accuracy: 0.9486\n",
            "Epoch 10/150\n",
            "856/856 [==============================] - 13s 16ms/step - loss: 0.3730 - D0_loss: 0.0653 - D1_loss: 0.0612 - D2_loss: 0.0912 - D3_loss: 0.0878 - D4_loss: 0.0675 - D0_categorical_accuracy: 0.9825 - D1_categorical_accuracy: 0.9860 - D2_categorical_accuracy: 0.9708 - D3_categorical_accuracy: 0.9696 - D4_categorical_accuracy: 0.9825 - val_loss: 1.4136 - val_D0_loss: 0.0945 - val_D1_loss: 0.2920 - val_D2_loss: 0.3537 - val_D3_loss: 0.2843 - val_D4_loss: 0.3892 - val_D0_categorical_accuracy: 0.9860 - val_D1_categorical_accuracy: 0.9206 - val_D2_categorical_accuracy: 0.9112 - val_D3_categorical_accuracy: 0.8972 - val_D4_categorical_accuracy: 0.8738\n",
            "Epoch 11/150\n",
            "856/856 [==============================] - 12s 14ms/step - loss: 0.3380 - D0_loss: 0.0542 - D1_loss: 0.0660 - D2_loss: 0.0836 - D3_loss: 0.0671 - D4_loss: 0.0672 - D0_categorical_accuracy: 0.9848 - D1_categorical_accuracy: 0.9801 - D2_categorical_accuracy: 0.9708 - D3_categorical_accuracy: 0.9766 - D4_categorical_accuracy: 0.9825 - val_loss: 0.9648 - val_D0_loss: 0.0935 - val_D1_loss: 0.1503 - val_D2_loss: 0.2824 - val_D3_loss: 0.2845 - val_D4_loss: 0.1540 - val_D0_categorical_accuracy: 0.9766 - val_D1_categorical_accuracy: 0.9486 - val_D2_categorical_accuracy: 0.9299 - val_D3_categorical_accuracy: 0.9252 - val_D4_categorical_accuracy: 0.9626\n",
            "Epoch 12/150\n",
            "856/856 [==============================] - 12s 14ms/step - loss: 0.2806 - D0_loss: 0.0464 - D1_loss: 0.0569 - D2_loss: 0.0660 - D3_loss: 0.0578 - D4_loss: 0.0536 - D0_categorical_accuracy: 0.9883 - D1_categorical_accuracy: 0.9836 - D2_categorical_accuracy: 0.9825 - D3_categorical_accuracy: 0.9860 - D4_categorical_accuracy: 0.9871 - val_loss: 0.6968 - val_D0_loss: 0.0468 - val_D1_loss: 0.1172 - val_D2_loss: 0.2038 - val_D3_loss: 0.1723 - val_D4_loss: 0.1568 - val_D0_categorical_accuracy: 0.9907 - val_D1_categorical_accuracy: 0.9626 - val_D2_categorical_accuracy: 0.9252 - val_D3_categorical_accuracy: 0.9533 - val_D4_categorical_accuracy: 0.9579\n",
            "Epoch 13/150\n",
            "856/856 [==============================] - 12s 14ms/step - loss: 0.3816 - D0_loss: 0.0552 - D1_loss: 0.0627 - D2_loss: 0.0886 - D3_loss: 0.1023 - D4_loss: 0.0728 - D0_categorical_accuracy: 0.9836 - D1_categorical_accuracy: 0.9813 - D2_categorical_accuracy: 0.9790 - D3_categorical_accuracy: 0.9743 - D4_categorical_accuracy: 0.9755 - val_loss: 0.7290 - val_D0_loss: 0.0965 - val_D1_loss: 0.0978 - val_D2_loss: 0.1901 - val_D3_loss: 0.1741 - val_D4_loss: 0.1705 - val_D0_categorical_accuracy: 0.9673 - val_D1_categorical_accuracy: 0.9813 - val_D2_categorical_accuracy: 0.9533 - val_D3_categorical_accuracy: 0.9579 - val_D4_categorical_accuracy: 0.9393\n",
            "Epoch 14/150\n",
            "856/856 [==============================] - 12s 14ms/step - loss: 0.3061 - D0_loss: 0.0463 - D1_loss: 0.0670 - D2_loss: 0.0650 - D3_loss: 0.0630 - D4_loss: 0.0648 - D0_categorical_accuracy: 0.9848 - D1_categorical_accuracy: 0.9766 - D2_categorical_accuracy: 0.9755 - D3_categorical_accuracy: 0.9871 - D4_categorical_accuracy: 0.9801 - val_loss: 0.7845 - val_D0_loss: 0.0495 - val_D1_loss: 0.0987 - val_D2_loss: 0.1500 - val_D3_loss: 0.1921 - val_D4_loss: 0.2943 - val_D0_categorical_accuracy: 0.9860 - val_D1_categorical_accuracy: 0.9673 - val_D2_categorical_accuracy: 0.9766 - val_D3_categorical_accuracy: 0.9439 - val_D4_categorical_accuracy: 0.9299\n",
            "Epoch 15/150\n",
            "856/856 [==============================] - 14s 16ms/step - loss: 0.3865 - D0_loss: 0.0785 - D1_loss: 0.0794 - D2_loss: 0.0767 - D3_loss: 0.0753 - D4_loss: 0.0766 - D0_categorical_accuracy: 0.9813 - D1_categorical_accuracy: 0.9825 - D2_categorical_accuracy: 0.9790 - D3_categorical_accuracy: 0.9766 - D4_categorical_accuracy: 0.9801 - val_loss: 0.7526 - val_D0_loss: 0.1010 - val_D1_loss: 0.1284 - val_D2_loss: 0.1864 - val_D3_loss: 0.2130 - val_D4_loss: 0.1238 - val_D0_categorical_accuracy: 0.9766 - val_D1_categorical_accuracy: 0.9673 - val_D2_categorical_accuracy: 0.9673 - val_D3_categorical_accuracy: 0.9299 - val_D4_categorical_accuracy: 0.9673\n",
            "Epoch 16/150\n",
            "856/856 [==============================] - 21s 25ms/step - loss: 0.2866 - D0_loss: 0.0489 - D1_loss: 0.0571 - D2_loss: 0.0577 - D3_loss: 0.0662 - D4_loss: 0.0566 - D0_categorical_accuracy: 0.9836 - D1_categorical_accuracy: 0.9836 - D2_categorical_accuracy: 0.9836 - D3_categorical_accuracy: 0.9813 - D4_categorical_accuracy: 0.9871 - val_loss: 0.6114 - val_D0_loss: 0.0959 - val_D1_loss: 0.0979 - val_D2_loss: 0.2223 - val_D3_loss: 0.1260 - val_D4_loss: 0.0693 - val_D0_categorical_accuracy: 0.9766 - val_D1_categorical_accuracy: 0.9673 - val_D2_categorical_accuracy: 0.9720 - val_D3_categorical_accuracy: 0.9626 - val_D4_categorical_accuracy: 0.9720\n",
            "Epoch 17/150\n",
            "856/856 [==============================] - 21s 25ms/step - loss: 0.2864 - D0_loss: 0.0428 - D1_loss: 0.0464 - D2_loss: 0.0802 - D3_loss: 0.0670 - D4_loss: 0.0501 - D0_categorical_accuracy: 0.9871 - D1_categorical_accuracy: 0.9895 - D2_categorical_accuracy: 0.9743 - D3_categorical_accuracy: 0.9825 - D4_categorical_accuracy: 0.9871 - val_loss: 0.5850 - val_D0_loss: 0.0668 - val_D1_loss: 0.1300 - val_D2_loss: 0.1709 - val_D3_loss: 0.1274 - val_D4_loss: 0.0901 - val_D0_categorical_accuracy: 0.9860 - val_D1_categorical_accuracy: 0.9533 - val_D2_categorical_accuracy: 0.9579 - val_D3_categorical_accuracy: 0.9626 - val_D4_categorical_accuracy: 0.9766\n",
            "Epoch 18/150\n",
            "856/856 [==============================] - 22s 25ms/step - loss: 0.2737 - D0_loss: 0.0511 - D1_loss: 0.0579 - D2_loss: 0.0507 - D3_loss: 0.0736 - D4_loss: 0.0405 - D0_categorical_accuracy: 0.9895 - D1_categorical_accuracy: 0.9825 - D2_categorical_accuracy: 0.9813 - D3_categorical_accuracy: 0.9778 - D4_categorical_accuracy: 0.9883 - val_loss: 0.5556 - val_D0_loss: 0.0717 - val_D1_loss: 0.0928 - val_D2_loss: 0.1385 - val_D3_loss: 0.1517 - val_D4_loss: 0.1009 - val_D0_categorical_accuracy: 0.9813 - val_D1_categorical_accuracy: 0.9766 - val_D2_categorical_accuracy: 0.9673 - val_D3_categorical_accuracy: 0.9439 - val_D4_categorical_accuracy: 0.9673\n",
            "Epoch 19/150\n",
            "856/856 [==============================] - 22s 25ms/step - loss: 0.2235 - D0_loss: 0.0353 - D1_loss: 0.0372 - D2_loss: 0.0601 - D3_loss: 0.0504 - D4_loss: 0.0404 - D0_categorical_accuracy: 0.9895 - D1_categorical_accuracy: 0.9918 - D2_categorical_accuracy: 0.9848 - D3_categorical_accuracy: 0.9848 - D4_categorical_accuracy: 0.9895 - val_loss: 1.0231 - val_D0_loss: 0.1829 - val_D1_loss: 0.1658 - val_D2_loss: 0.2152 - val_D3_loss: 0.3041 - val_D4_loss: 0.1551 - val_D0_categorical_accuracy: 0.9439 - val_D1_categorical_accuracy: 0.9533 - val_D2_categorical_accuracy: 0.9533 - val_D3_categorical_accuracy: 0.9019 - val_D4_categorical_accuracy: 0.9346\n",
            "Epoch 20/150\n",
            "856/856 [==============================] - 22s 25ms/step - loss: 0.2454 - D0_loss: 0.0429 - D1_loss: 0.0375 - D2_loss: 0.0464 - D3_loss: 0.0617 - D4_loss: 0.0569 - D0_categorical_accuracy: 0.9848 - D1_categorical_accuracy: 0.9907 - D2_categorical_accuracy: 0.9871 - D3_categorical_accuracy: 0.9755 - D4_categorical_accuracy: 0.9871 - val_loss: 0.8145 - val_D0_loss: 0.0428 - val_D1_loss: 0.0993 - val_D2_loss: 0.2090 - val_D3_loss: 0.3148 - val_D4_loss: 0.1486 - val_D0_categorical_accuracy: 0.9860 - val_D1_categorical_accuracy: 0.9720 - val_D2_categorical_accuracy: 0.9346 - val_D3_categorical_accuracy: 0.9019 - val_D4_categorical_accuracy: 0.9673\n",
            "Epoch 21/150\n",
            "856/856 [==============================] - 22s 26ms/step - loss: 0.2633 - D0_loss: 0.0397 - D1_loss: 0.0446 - D2_loss: 0.0571 - D3_loss: 0.0587 - D4_loss: 0.0632 - D0_categorical_accuracy: 0.9918 - D1_categorical_accuracy: 0.9860 - D2_categorical_accuracy: 0.9801 - D3_categorical_accuracy: 0.9825 - D4_categorical_accuracy: 0.9813 - val_loss: 0.6863 - val_D0_loss: 0.0751 - val_D1_loss: 0.0810 - val_D2_loss: 0.1501 - val_D3_loss: 0.1884 - val_D4_loss: 0.1917 - val_D0_categorical_accuracy: 0.9766 - val_D1_categorical_accuracy: 0.9626 - val_D2_categorical_accuracy: 0.9673 - val_D3_categorical_accuracy: 0.9299 - val_D4_categorical_accuracy: 0.9346\n",
            "Epoch 22/150\n",
            "856/856 [==============================] - 22s 25ms/step - loss: 0.2292 - D0_loss: 0.0332 - D1_loss: 0.0454 - D2_loss: 0.0570 - D3_loss: 0.0504 - D4_loss: 0.0431 - D0_categorical_accuracy: 0.9860 - D1_categorical_accuracy: 0.9860 - D2_categorical_accuracy: 0.9825 - D3_categorical_accuracy: 0.9825 - D4_categorical_accuracy: 0.9918 - val_loss: 0.8767 - val_D0_loss: 0.0735 - val_D1_loss: 0.1461 - val_D2_loss: 0.3328 - val_D3_loss: 0.1934 - val_D4_loss: 0.1309 - val_D0_categorical_accuracy: 0.9720 - val_D1_categorical_accuracy: 0.9673 - val_D2_categorical_accuracy: 0.9206 - val_D3_categorical_accuracy: 0.9486 - val_D4_categorical_accuracy: 0.9439\n",
            "Epoch 23/150\n",
            "856/856 [==============================] - 21s 25ms/step - loss: 0.3555 - D0_loss: 0.0597 - D1_loss: 0.0700 - D2_loss: 0.0923 - D3_loss: 0.0953 - D4_loss: 0.0382 - D0_categorical_accuracy: 0.9825 - D1_categorical_accuracy: 0.9720 - D2_categorical_accuracy: 0.9708 - D3_categorical_accuracy: 0.9731 - D4_categorical_accuracy: 0.9883 - val_loss: 0.8221 - val_D0_loss: 0.0630 - val_D1_loss: 0.1987 - val_D2_loss: 0.2079 - val_D3_loss: 0.1992 - val_D4_loss: 0.1533 - val_D0_categorical_accuracy: 0.9720 - val_D1_categorical_accuracy: 0.9533 - val_D2_categorical_accuracy: 0.9439 - val_D3_categorical_accuracy: 0.9486 - val_D4_categorical_accuracy: 0.9673\n",
            "Epoch 24/150\n",
            "856/856 [==============================] - 22s 25ms/step - loss: 0.2676 - D0_loss: 0.0473 - D1_loss: 0.0595 - D2_loss: 0.0611 - D3_loss: 0.0595 - D4_loss: 0.0402 - D0_categorical_accuracy: 0.9836 - D1_categorical_accuracy: 0.9836 - D2_categorical_accuracy: 0.9825 - D3_categorical_accuracy: 0.9801 - D4_categorical_accuracy: 0.9883 - val_loss: 0.6707 - val_D0_loss: 0.1068 - val_D1_loss: 0.1152 - val_D2_loss: 0.1854 - val_D3_loss: 0.2010 - val_D4_loss: 0.0623 - val_D0_categorical_accuracy: 0.9766 - val_D1_categorical_accuracy: 0.9673 - val_D2_categorical_accuracy: 0.9579 - val_D3_categorical_accuracy: 0.9439 - val_D4_categorical_accuracy: 0.9813\n",
            "Epoch 25/150\n",
            "856/856 [==============================] - 22s 26ms/step - loss: 0.2752 - D0_loss: 0.0507 - D1_loss: 0.0550 - D2_loss: 0.0404 - D3_loss: 0.0676 - D4_loss: 0.0615 - D0_categorical_accuracy: 0.9801 - D1_categorical_accuracy: 0.9848 - D2_categorical_accuracy: 0.9871 - D3_categorical_accuracy: 0.9778 - D4_categorical_accuracy: 0.9813 - val_loss: 0.5715 - val_D0_loss: 0.0359 - val_D1_loss: 0.0865 - val_D2_loss: 0.2416 - val_D3_loss: 0.1319 - val_D4_loss: 0.0757 - val_D0_categorical_accuracy: 0.9907 - val_D1_categorical_accuracy: 0.9813 - val_D2_categorical_accuracy: 0.9439 - val_D3_categorical_accuracy: 0.9533 - val_D4_categorical_accuracy: 0.9766\n",
            "Epoch 26/150\n",
            "856/856 [==============================] - 22s 25ms/step - loss: 0.3404 - D0_loss: 0.0458 - D1_loss: 0.0902 - D2_loss: 0.0666 - D3_loss: 0.0819 - D4_loss: 0.0559 - D0_categorical_accuracy: 0.9871 - D1_categorical_accuracy: 0.9778 - D2_categorical_accuracy: 0.9801 - D3_categorical_accuracy: 0.9731 - D4_categorical_accuracy: 0.9836 - val_loss: 1.6868 - val_D0_loss: 0.1701 - val_D1_loss: 0.1417 - val_D2_loss: 0.5265 - val_D3_loss: 0.2740 - val_D4_loss: 0.5745 - val_D0_categorical_accuracy: 0.9346 - val_D1_categorical_accuracy: 0.9486 - val_D2_categorical_accuracy: 0.8645 - val_D3_categorical_accuracy: 0.9112 - val_D4_categorical_accuracy: 0.8037\n",
            "Epoch 27/150\n",
            "856/856 [==============================] - 22s 26ms/step - loss: 0.2463 - D0_loss: 0.0367 - D1_loss: 0.0568 - D2_loss: 0.0496 - D3_loss: 0.0576 - D4_loss: 0.0455 - D0_categorical_accuracy: 0.9918 - D1_categorical_accuracy: 0.9790 - D2_categorical_accuracy: 0.9836 - D3_categorical_accuracy: 0.9836 - D4_categorical_accuracy: 0.9883 - val_loss: 0.8453 - val_D0_loss: 0.0880 - val_D1_loss: 0.0903 - val_D2_loss: 0.2395 - val_D3_loss: 0.1637 - val_D4_loss: 0.2639 - val_D0_categorical_accuracy: 0.9720 - val_D1_categorical_accuracy: 0.9766 - val_D2_categorical_accuracy: 0.9486 - val_D3_categorical_accuracy: 0.9626 - val_D4_categorical_accuracy: 0.9112\n",
            "Epoch 28/150\n",
            "856/856 [==============================] - 21s 25ms/step - loss: 0.3276 - D0_loss: 0.0626 - D1_loss: 0.0727 - D2_loss: 0.0594 - D3_loss: 0.0829 - D4_loss: 0.0500 - D0_categorical_accuracy: 0.9790 - D1_categorical_accuracy: 0.9766 - D2_categorical_accuracy: 0.9836 - D3_categorical_accuracy: 0.9755 - D4_categorical_accuracy: 0.9883 - val_loss: 0.7385 - val_D0_loss: 0.1458 - val_D1_loss: 0.1324 - val_D2_loss: 0.1813 - val_D3_loss: 0.1899 - val_D4_loss: 0.0892 - val_D0_categorical_accuracy: 0.9766 - val_D1_categorical_accuracy: 0.9766 - val_D2_categorical_accuracy: 0.9673 - val_D3_categorical_accuracy: 0.9486 - val_D4_categorical_accuracy: 0.9673\n",
            "Epoch 29/150\n",
            "856/856 [==============================] - 22s 26ms/step - loss: 0.2878 - D0_loss: 0.0421 - D1_loss: 0.0608 - D2_loss: 0.0609 - D3_loss: 0.0684 - D4_loss: 0.0555 - D0_categorical_accuracy: 0.9836 - D1_categorical_accuracy: 0.9766 - D2_categorical_accuracy: 0.9825 - D3_categorical_accuracy: 0.9801 - D4_categorical_accuracy: 0.9801 - val_loss: 0.4877 - val_D0_loss: 0.0420 - val_D1_loss: 0.1009 - val_D2_loss: 0.1764 - val_D3_loss: 0.1122 - val_D4_loss: 0.0562 - val_D0_categorical_accuracy: 0.9907 - val_D1_categorical_accuracy: 0.9860 - val_D2_categorical_accuracy: 0.9579 - val_D3_categorical_accuracy: 0.9673 - val_D4_categorical_accuracy: 0.9813\n",
            "Epoch 30/150\n",
            "856/856 [==============================] - 22s 26ms/step - loss: 0.2766 - D0_loss: 0.0347 - D1_loss: 0.0286 - D2_loss: 0.0725 - D3_loss: 0.0876 - D4_loss: 0.0531 - D0_categorical_accuracy: 0.9871 - D1_categorical_accuracy: 0.9942 - D2_categorical_accuracy: 0.9766 - D3_categorical_accuracy: 0.9731 - D4_categorical_accuracy: 0.9813 - val_loss: 0.7121 - val_D0_loss: 0.0998 - val_D1_loss: 0.0802 - val_D2_loss: 0.1957 - val_D3_loss: 0.2255 - val_D4_loss: 0.1109 - val_D0_categorical_accuracy: 0.9813 - val_D1_categorical_accuracy: 0.9813 - val_D2_categorical_accuracy: 0.9393 - val_D3_categorical_accuracy: 0.9299 - val_D4_categorical_accuracy: 0.9720\n",
            "Epoch 31/150\n",
            "856/856 [==============================] - 22s 25ms/step - loss: 0.2974 - D0_loss: 0.0590 - D1_loss: 0.0587 - D2_loss: 0.0480 - D3_loss: 0.0720 - D4_loss: 0.0597 - D0_categorical_accuracy: 0.9813 - D1_categorical_accuracy: 0.9836 - D2_categorical_accuracy: 0.9871 - D3_categorical_accuracy: 0.9778 - D4_categorical_accuracy: 0.9790 - val_loss: 0.7981 - val_D0_loss: 0.1068 - val_D1_loss: 0.0762 - val_D2_loss: 0.2493 - val_D3_loss: 0.2478 - val_D4_loss: 0.1181 - val_D0_categorical_accuracy: 0.9720 - val_D1_categorical_accuracy: 0.9766 - val_D2_categorical_accuracy: 0.9486 - val_D3_categorical_accuracy: 0.9159 - val_D4_categorical_accuracy: 0.9626\n",
            "Epoch 32/150\n",
            "856/856 [==============================] - 21s 25ms/step - loss: 0.1711 - D0_loss: 0.0408 - D1_loss: 0.0239 - D2_loss: 0.0341 - D3_loss: 0.0377 - D4_loss: 0.0346 - D0_categorical_accuracy: 0.9871 - D1_categorical_accuracy: 0.9953 - D2_categorical_accuracy: 0.9930 - D3_categorical_accuracy: 0.9907 - D4_categorical_accuracy: 0.9871 - val_loss: 0.5215 - val_D0_loss: 0.0793 - val_D1_loss: 0.0857 - val_D2_loss: 0.1278 - val_D3_loss: 0.1553 - val_D4_loss: 0.0735 - val_D0_categorical_accuracy: 0.9766 - val_D1_categorical_accuracy: 0.9813 - val_D2_categorical_accuracy: 0.9626 - val_D3_categorical_accuracy: 0.9393 - val_D4_categorical_accuracy: 0.9860\n",
            "Epoch 33/150\n",
            "856/856 [==============================] - 21s 25ms/step - loss: 0.2705 - D0_loss: 0.0390 - D1_loss: 0.0722 - D2_loss: 0.0328 - D3_loss: 0.0689 - D4_loss: 0.0576 - D0_categorical_accuracy: 0.9883 - D1_categorical_accuracy: 0.9766 - D2_categorical_accuracy: 0.9883 - D3_categorical_accuracy: 0.9755 - D4_categorical_accuracy: 0.9825 - val_loss: 0.5965 - val_D0_loss: 0.0262 - val_D1_loss: 0.0894 - val_D2_loss: 0.1625 - val_D3_loss: 0.2307 - val_D4_loss: 0.0877 - val_D0_categorical_accuracy: 0.9953 - val_D1_categorical_accuracy: 0.9766 - val_D2_categorical_accuracy: 0.9626 - val_D3_categorical_accuracy: 0.9299 - val_D4_categorical_accuracy: 0.9673\n",
            "Epoch 34/150\n",
            "856/856 [==============================] - 21s 25ms/step - loss: 0.2309 - D0_loss: 0.0428 - D1_loss: 0.0439 - D2_loss: 0.0475 - D3_loss: 0.0409 - D4_loss: 0.0557 - D0_categorical_accuracy: 0.9848 - D1_categorical_accuracy: 0.9871 - D2_categorical_accuracy: 0.9813 - D3_categorical_accuracy: 0.9871 - D4_categorical_accuracy: 0.9836 - val_loss: 0.4472 - val_D0_loss: 0.0172 - val_D1_loss: 0.0615 - val_D2_loss: 0.1527 - val_D3_loss: 0.1788 - val_D4_loss: 0.0370 - val_D0_categorical_accuracy: 0.9953 - val_D1_categorical_accuracy: 0.9907 - val_D2_categorical_accuracy: 0.9720 - val_D3_categorical_accuracy: 0.9579 - val_D4_categorical_accuracy: 0.9907\n",
            "Epoch 35/150\n",
            "856/856 [==============================] - 22s 25ms/step - loss: 0.2556 - D0_loss: 0.0352 - D1_loss: 0.0468 - D2_loss: 0.0585 - D3_loss: 0.0779 - D4_loss: 0.0372 - D0_categorical_accuracy: 0.9883 - D1_categorical_accuracy: 0.9836 - D2_categorical_accuracy: 0.9848 - D3_categorical_accuracy: 0.9743 - D4_categorical_accuracy: 0.9871 - val_loss: 0.8588 - val_D0_loss: 0.1169 - val_D1_loss: 0.1589 - val_D2_loss: 0.2635 - val_D3_loss: 0.2396 - val_D4_loss: 0.0798 - val_D0_categorical_accuracy: 0.9813 - val_D1_categorical_accuracy: 0.9579 - val_D2_categorical_accuracy: 0.9439 - val_D3_categorical_accuracy: 0.9252 - val_D4_categorical_accuracy: 0.9720\n",
            "Epoch 36/150\n",
            "856/856 [==============================] - 22s 26ms/step - loss: 0.2398 - D0_loss: 0.0457 - D1_loss: 0.0359 - D2_loss: 0.0479 - D3_loss: 0.0570 - D4_loss: 0.0532 - D0_categorical_accuracy: 0.9836 - D1_categorical_accuracy: 0.9883 - D2_categorical_accuracy: 0.9836 - D3_categorical_accuracy: 0.9825 - D4_categorical_accuracy: 0.9825 - val_loss: 0.5113 - val_D0_loss: 0.0494 - val_D1_loss: 0.0715 - val_D2_loss: 0.1349 - val_D3_loss: 0.2093 - val_D4_loss: 0.0463 - val_D0_categorical_accuracy: 0.9860 - val_D1_categorical_accuracy: 0.9860 - val_D2_categorical_accuracy: 0.9766 - val_D3_categorical_accuracy: 0.9439 - val_D4_categorical_accuracy: 0.9766\n",
            "Epoch 37/150\n",
            "856/856 [==============================] - 22s 26ms/step - loss: 0.1596 - D0_loss: 0.0204 - D1_loss: 0.0347 - D2_loss: 0.0408 - D3_loss: 0.0405 - D4_loss: 0.0231 - D0_categorical_accuracy: 0.9918 - D1_categorical_accuracy: 0.9895 - D2_categorical_accuracy: 0.9883 - D3_categorical_accuracy: 0.9871 - D4_categorical_accuracy: 0.9942 - val_loss: 0.5444 - val_D0_loss: 0.0491 - val_D1_loss: 0.1085 - val_D2_loss: 0.1413 - val_D3_loss: 0.1663 - val_D4_loss: 0.0792 - val_D0_categorical_accuracy: 0.9860 - val_D1_categorical_accuracy: 0.9813 - val_D2_categorical_accuracy: 0.9720 - val_D3_categorical_accuracy: 0.9486 - val_D4_categorical_accuracy: 0.9720\n",
            "Epoch 38/150\n",
            "856/856 [==============================] - 22s 26ms/step - loss: 0.1737 - D0_loss: 0.0155 - D1_loss: 0.0301 - D2_loss: 0.0383 - D3_loss: 0.0437 - D4_loss: 0.0461 - D0_categorical_accuracy: 0.9953 - D1_categorical_accuracy: 0.9895 - D2_categorical_accuracy: 0.9860 - D3_categorical_accuracy: 0.9883 - D4_categorical_accuracy: 0.9907 - val_loss: 0.5126 - val_D0_loss: 0.0231 - val_D1_loss: 0.0852 - val_D2_loss: 0.1588 - val_D3_loss: 0.1293 - val_D4_loss: 0.1162 - val_D0_categorical_accuracy: 0.9953 - val_D1_categorical_accuracy: 0.9860 - val_D2_categorical_accuracy: 0.9673 - val_D3_categorical_accuracy: 0.9673 - val_D4_categorical_accuracy: 0.9720\n",
            "Epoch 39/150\n",
            "856/856 [==============================] - 22s 26ms/step - loss: 0.2566 - D0_loss: 0.0424 - D1_loss: 0.0322 - D2_loss: 0.0718 - D3_loss: 0.0685 - D4_loss: 0.0416 - D0_categorical_accuracy: 0.9883 - D1_categorical_accuracy: 0.9918 - D2_categorical_accuracy: 0.9743 - D3_categorical_accuracy: 0.9755 - D4_categorical_accuracy: 0.9860 - val_loss: 0.5856 - val_D0_loss: 0.0328 - val_D1_loss: 0.0861 - val_D2_loss: 0.1498 - val_D3_loss: 0.1422 - val_D4_loss: 0.1747 - val_D0_categorical_accuracy: 0.9907 - val_D1_categorical_accuracy: 0.9813 - val_D2_categorical_accuracy: 0.9720 - val_D3_categorical_accuracy: 0.9673 - val_D4_categorical_accuracy: 0.9486\n",
            "Epoch 40/150\n",
            "856/856 [==============================] - 21s 25ms/step - loss: 0.2244 - D0_loss: 0.0569 - D1_loss: 0.0470 - D2_loss: 0.0579 - D3_loss: 0.0272 - D4_loss: 0.0355 - D0_categorical_accuracy: 0.9801 - D1_categorical_accuracy: 0.9860 - D2_categorical_accuracy: 0.9836 - D3_categorical_accuracy: 0.9918 - D4_categorical_accuracy: 0.9907 - val_loss: 1.1225 - val_D0_loss: 0.0657 - val_D1_loss: 0.1527 - val_D2_loss: 0.2196 - val_D3_loss: 0.2850 - val_D4_loss: 0.3995 - val_D0_categorical_accuracy: 0.9860 - val_D1_categorical_accuracy: 0.9393 - val_D2_categorical_accuracy: 0.9533 - val_D3_categorical_accuracy: 0.9206 - val_D4_categorical_accuracy: 0.8925\n",
            "Epoch 41/150\n",
            "856/856 [==============================] - 21s 25ms/step - loss: 0.2411 - D0_loss: 0.0406 - D1_loss: 0.0601 - D2_loss: 0.0430 - D3_loss: 0.0455 - D4_loss: 0.0518 - D0_categorical_accuracy: 0.9871 - D1_categorical_accuracy: 0.9813 - D2_categorical_accuracy: 0.9895 - D3_categorical_accuracy: 0.9825 - D4_categorical_accuracy: 0.9836 - val_loss: 0.4744 - val_D0_loss: 0.0437 - val_D1_loss: 0.0697 - val_D2_loss: 0.1519 - val_D3_loss: 0.1374 - val_D4_loss: 0.0716 - val_D0_categorical_accuracy: 0.9907 - val_D1_categorical_accuracy: 0.9813 - val_D2_categorical_accuracy: 0.9626 - val_D3_categorical_accuracy: 0.9626 - val_D4_categorical_accuracy: 0.9813\n",
            "Epoch 42/150\n",
            "856/856 [==============================] - 22s 25ms/step - loss: 0.2091 - D0_loss: 0.0183 - D1_loss: 0.0386 - D2_loss: 0.0446 - D3_loss: 0.0652 - D4_loss: 0.0425 - D0_categorical_accuracy: 0.9953 - D1_categorical_accuracy: 0.9883 - D2_categorical_accuracy: 0.9883 - D3_categorical_accuracy: 0.9801 - D4_categorical_accuracy: 0.9825 - val_loss: 0.4300 - val_D0_loss: 0.0469 - val_D1_loss: 0.0526 - val_D2_loss: 0.1703 - val_D3_loss: 0.1084 - val_D4_loss: 0.0518 - val_D0_categorical_accuracy: 0.9860 - val_D1_categorical_accuracy: 0.9860 - val_D2_categorical_accuracy: 0.9626 - val_D3_categorical_accuracy: 0.9626 - val_D4_categorical_accuracy: 0.9860\n",
            "Epoch 43/150\n",
            "856/856 [==============================] - 23s 27ms/step - loss: 0.1884 - D0_loss: 0.0255 - D1_loss: 0.0355 - D2_loss: 0.0568 - D3_loss: 0.0458 - D4_loss: 0.0248 - D0_categorical_accuracy: 0.9907 - D1_categorical_accuracy: 0.9883 - D2_categorical_accuracy: 0.9825 - D3_categorical_accuracy: 0.9848 - D4_categorical_accuracy: 0.9907 - val_loss: 0.5559 - val_D0_loss: 0.0535 - val_D1_loss: 0.0523 - val_D2_loss: 0.1722 - val_D3_loss: 0.1819 - val_D4_loss: 0.0959 - val_D0_categorical_accuracy: 0.9907 - val_D1_categorical_accuracy: 0.9953 - val_D2_categorical_accuracy: 0.9766 - val_D3_categorical_accuracy: 0.9486 - val_D4_categorical_accuracy: 0.9813\n",
            "Epoch 44/150\n",
            "856/856 [==============================] - 23s 26ms/step - loss: 0.1598 - D0_loss: 0.0199 - D1_loss: 0.0315 - D2_loss: 0.0344 - D3_loss: 0.0498 - D4_loss: 0.0242 - D0_categorical_accuracy: 0.9942 - D1_categorical_accuracy: 0.9918 - D2_categorical_accuracy: 0.9895 - D3_categorical_accuracy: 0.9813 - D4_categorical_accuracy: 0.9930 - val_loss: 0.7224 - val_D0_loss: 0.0717 - val_D1_loss: 0.1118 - val_D2_loss: 0.1784 - val_D3_loss: 0.2978 - val_D4_loss: 0.0627 - val_D0_categorical_accuracy: 0.9860 - val_D1_categorical_accuracy: 0.9766 - val_D2_categorical_accuracy: 0.9673 - val_D3_categorical_accuracy: 0.9439 - val_D4_categorical_accuracy: 0.9813\n",
            "Epoch 45/150\n",
            "856/856 [==============================] - 22s 26ms/step - loss: 0.1805 - D0_loss: 0.0353 - D1_loss: 0.0634 - D2_loss: 0.0291 - D3_loss: 0.0236 - D4_loss: 0.0291 - D0_categorical_accuracy: 0.9907 - D1_categorical_accuracy: 0.9755 - D2_categorical_accuracy: 0.9907 - D3_categorical_accuracy: 0.9918 - D4_categorical_accuracy: 0.9907 - val_loss: 0.6691 - val_D0_loss: 0.0685 - val_D1_loss: 0.0452 - val_D2_loss: 0.2165 - val_D3_loss: 0.2064 - val_D4_loss: 0.1325 - val_D0_categorical_accuracy: 0.9860 - val_D1_categorical_accuracy: 0.9907 - val_D2_categorical_accuracy: 0.9626 - val_D3_categorical_accuracy: 0.9533 - val_D4_categorical_accuracy: 0.9720\n",
            "Epoch 46/150\n",
            "856/856 [==============================] - 22s 25ms/step - loss: 0.2546 - D0_loss: 0.0552 - D1_loss: 0.0277 - D2_loss: 0.0529 - D3_loss: 0.0684 - D4_loss: 0.0504 - D0_categorical_accuracy: 0.9825 - D1_categorical_accuracy: 0.9918 - D2_categorical_accuracy: 0.9813 - D3_categorical_accuracy: 0.9778 - D4_categorical_accuracy: 0.9871 - val_loss: 1.4904 - val_D0_loss: 0.1398 - val_D1_loss: 0.0586 - val_D2_loss: 0.3450 - val_D3_loss: 0.4028 - val_D4_loss: 0.5444 - val_D0_categorical_accuracy: 0.9766 - val_D1_categorical_accuracy: 0.9766 - val_D2_categorical_accuracy: 0.9206 - val_D3_categorical_accuracy: 0.8832 - val_D4_categorical_accuracy: 0.8458\n",
            "Epoch 47/150\n",
            "856/856 [==============================] - 21s 25ms/step - loss: 0.2557 - D0_loss: 0.0384 - D1_loss: 0.0453 - D2_loss: 0.0711 - D3_loss: 0.0548 - D4_loss: 0.0460 - D0_categorical_accuracy: 0.9883 - D1_categorical_accuracy: 0.9871 - D2_categorical_accuracy: 0.9825 - D3_categorical_accuracy: 0.9801 - D4_categorical_accuracy: 0.9848 - val_loss: 0.6118 - val_D0_loss: 0.0457 - val_D1_loss: 0.0893 - val_D2_loss: 0.1741 - val_D3_loss: 0.2388 - val_D4_loss: 0.0639 - val_D0_categorical_accuracy: 0.9907 - val_D1_categorical_accuracy: 0.9766 - val_D2_categorical_accuracy: 0.9579 - val_D3_categorical_accuracy: 0.9393 - val_D4_categorical_accuracy: 0.9720\n",
            "Epoch 48/150\n",
            "856/856 [==============================] - 22s 26ms/step - loss: 0.2253 - D0_loss: 0.0294 - D1_loss: 0.0538 - D2_loss: 0.0693 - D3_loss: 0.0376 - D4_loss: 0.0353 - D0_categorical_accuracy: 0.9930 - D1_categorical_accuracy: 0.9801 - D2_categorical_accuracy: 0.9790 - D3_categorical_accuracy: 0.9871 - D4_categorical_accuracy: 0.9871 - val_loss: 0.6723 - val_D0_loss: 0.0985 - val_D1_loss: 0.0691 - val_D2_loss: 0.2184 - val_D3_loss: 0.1659 - val_D4_loss: 0.1203 - val_D0_categorical_accuracy: 0.9766 - val_D1_categorical_accuracy: 0.9813 - val_D2_categorical_accuracy: 0.9579 - val_D3_categorical_accuracy: 0.9673 - val_D4_categorical_accuracy: 0.9766\n",
            "Epoch 49/150\n",
            "856/856 [==============================] - 21s 25ms/step - loss: 0.2378 - D0_loss: 0.0398 - D1_loss: 0.0490 - D2_loss: 0.0622 - D3_loss: 0.0604 - D4_loss: 0.0265 - D0_categorical_accuracy: 0.9813 - D1_categorical_accuracy: 0.9848 - D2_categorical_accuracy: 0.9825 - D3_categorical_accuracy: 0.9755 - D4_categorical_accuracy: 0.9871 - val_loss: 0.5896 - val_D0_loss: 0.0646 - val_D1_loss: 0.0871 - val_D2_loss: 0.1536 - val_D3_loss: 0.2330 - val_D4_loss: 0.0514 - val_D0_categorical_accuracy: 0.9907 - val_D1_categorical_accuracy: 0.9720 - val_D2_categorical_accuracy: 0.9673 - val_D3_categorical_accuracy: 0.9439 - val_D4_categorical_accuracy: 0.9907\n",
            "Epoch 50/150\n",
            "856/856 [==============================] - 21s 25ms/step - loss: 0.2061 - D0_loss: 0.0118 - D1_loss: 0.0407 - D2_loss: 0.0695 - D3_loss: 0.0371 - D4_loss: 0.0470 - D0_categorical_accuracy: 0.9965 - D1_categorical_accuracy: 0.9860 - D2_categorical_accuracy: 0.9801 - D3_categorical_accuracy: 0.9871 - D4_categorical_accuracy: 0.9825 - val_loss: 0.5626 - val_D0_loss: 0.0599 - val_D1_loss: 0.0808 - val_D2_loss: 0.2032 - val_D3_loss: 0.1735 - val_D4_loss: 0.0453 - val_D0_categorical_accuracy: 0.9860 - val_D1_categorical_accuracy: 0.9860 - val_D2_categorical_accuracy: 0.9299 - val_D3_categorical_accuracy: 0.9533 - val_D4_categorical_accuracy: 0.9860\n",
            "Epoch 51/150\n",
            "856/856 [==============================] - 21s 25ms/step - loss: 0.1778 - D0_loss: 0.0190 - D1_loss: 0.0258 - D2_loss: 0.0456 - D3_loss: 0.0439 - D4_loss: 0.0435 - D0_categorical_accuracy: 0.9942 - D1_categorical_accuracy: 0.9883 - D2_categorical_accuracy: 0.9848 - D3_categorical_accuracy: 0.9836 - D4_categorical_accuracy: 0.9871 - val_loss: 0.7052 - val_D0_loss: 0.0456 - val_D1_loss: 0.1327 - val_D2_loss: 0.1152 - val_D3_loss: 0.3661 - val_D4_loss: 0.0457 - val_D0_categorical_accuracy: 0.9907 - val_D1_categorical_accuracy: 0.9813 - val_D2_categorical_accuracy: 0.9720 - val_D3_categorical_accuracy: 0.9206 - val_D4_categorical_accuracy: 0.9907\n",
            "Epoch 52/150\n",
            "856/856 [==============================] - 21s 25ms/step - loss: 0.1623 - D0_loss: 0.0154 - D1_loss: 0.0487 - D2_loss: 0.0204 - D3_loss: 0.0449 - D4_loss: 0.0328 - D0_categorical_accuracy: 0.9942 - D1_categorical_accuracy: 0.9848 - D2_categorical_accuracy: 0.9918 - D3_categorical_accuracy: 0.9848 - D4_categorical_accuracy: 0.9895 - val_loss: 0.5104 - val_D0_loss: 0.0729 - val_D1_loss: 0.0842 - val_D2_loss: 0.1463 - val_D3_loss: 0.1628 - val_D4_loss: 0.0442 - val_D0_categorical_accuracy: 0.9813 - val_D1_categorical_accuracy: 0.9720 - val_D2_categorical_accuracy: 0.9626 - val_D3_categorical_accuracy: 0.9720 - val_D4_categorical_accuracy: 0.9953\n",
            "Epoch 53/150\n",
            "856/856 [==============================] - 22s 26ms/step - loss: 0.2130 - D0_loss: 0.0483 - D1_loss: 0.0302 - D2_loss: 0.0528 - D3_loss: 0.0507 - D4_loss: 0.0310 - D0_categorical_accuracy: 0.9895 - D1_categorical_accuracy: 0.9907 - D2_categorical_accuracy: 0.9848 - D3_categorical_accuracy: 0.9836 - D4_categorical_accuracy: 0.9907 - val_loss: 0.7762 - val_D0_loss: 0.0584 - val_D1_loss: 0.1052 - val_D2_loss: 0.3086 - val_D3_loss: 0.2312 - val_D4_loss: 0.0728 - val_D0_categorical_accuracy: 0.9860 - val_D1_categorical_accuracy: 0.9720 - val_D2_categorical_accuracy: 0.9439 - val_D3_categorical_accuracy: 0.9346 - val_D4_categorical_accuracy: 0.9720\n",
            "Epoch 54/150\n",
            "856/856 [==============================] - 22s 26ms/step - loss: 0.2010 - D0_loss: 0.0479 - D1_loss: 0.0196 - D2_loss: 0.0361 - D3_loss: 0.0579 - D4_loss: 0.0394 - D0_categorical_accuracy: 0.9883 - D1_categorical_accuracy: 0.9942 - D2_categorical_accuracy: 0.9871 - D3_categorical_accuracy: 0.9813 - D4_categorical_accuracy: 0.9825 - val_loss: 0.4906 - val_D0_loss: 0.0501 - val_D1_loss: 0.0696 - val_D2_loss: 0.1620 - val_D3_loss: 0.1499 - val_D4_loss: 0.0591 - val_D0_categorical_accuracy: 0.9907 - val_D1_categorical_accuracy: 0.9813 - val_D2_categorical_accuracy: 0.9720 - val_D3_categorical_accuracy: 0.9720 - val_D4_categorical_accuracy: 0.9860\n",
            "Epoch 55/150\n",
            "856/856 [==============================] - 22s 26ms/step - loss: 0.2526 - D0_loss: 0.0716 - D1_loss: 0.0653 - D2_loss: 0.0357 - D3_loss: 0.0396 - D4_loss: 0.0404 - D0_categorical_accuracy: 0.9825 - D1_categorical_accuracy: 0.9801 - D2_categorical_accuracy: 0.9883 - D3_categorical_accuracy: 0.9883 - D4_categorical_accuracy: 0.9918 - val_loss: 0.6769 - val_D0_loss: 0.1286 - val_D1_loss: 0.0882 - val_D2_loss: 0.1790 - val_D3_loss: 0.1758 - val_D4_loss: 0.1053 - val_D0_categorical_accuracy: 0.9813 - val_D1_categorical_accuracy: 0.9720 - val_D2_categorical_accuracy: 0.9626 - val_D3_categorical_accuracy: 0.9393 - val_D4_categorical_accuracy: 0.9766\n",
            "Epoch 56/150\n",
            "856/856 [==============================] - 22s 25ms/step - loss: 0.1619 - D0_loss: 0.0273 - D1_loss: 0.0287 - D2_loss: 0.0338 - D3_loss: 0.0483 - D4_loss: 0.0238 - D0_categorical_accuracy: 0.9930 - D1_categorical_accuracy: 0.9883 - D2_categorical_accuracy: 0.9895 - D3_categorical_accuracy: 0.9871 - D4_categorical_accuracy: 0.9918 - val_loss: 0.6370 - val_D0_loss: 0.1347 - val_D1_loss: 0.0963 - val_D2_loss: 0.1590 - val_D3_loss: 0.1669 - val_D4_loss: 0.0800 - val_D0_categorical_accuracy: 0.9766 - val_D1_categorical_accuracy: 0.9720 - val_D2_categorical_accuracy: 0.9673 - val_D3_categorical_accuracy: 0.9533 - val_D4_categorical_accuracy: 0.9813\n",
            "Epoch 57/150\n",
            "856/856 [==============================] - 22s 25ms/step - loss: 0.1497 - D0_loss: 0.0196 - D1_loss: 0.0323 - D2_loss: 0.0405 - D3_loss: 0.0286 - D4_loss: 0.0288 - D0_categorical_accuracy: 0.9942 - D1_categorical_accuracy: 0.9871 - D2_categorical_accuracy: 0.9848 - D3_categorical_accuracy: 0.9907 - D4_categorical_accuracy: 0.9895 - val_loss: 0.5293 - val_D0_loss: 0.0149 - val_D1_loss: 0.0968 - val_D2_loss: 0.1482 - val_D3_loss: 0.2124 - val_D4_loss: 0.0569 - val_D0_categorical_accuracy: 0.9953 - val_D1_categorical_accuracy: 0.9720 - val_D2_categorical_accuracy: 0.9766 - val_D3_categorical_accuracy: 0.9533 - val_D4_categorical_accuracy: 0.9860\n",
            "Epoch 58/150\n",
            "856/856 [==============================] - 22s 25ms/step - loss: 0.1375 - D0_loss: 0.0292 - D1_loss: 0.0296 - D2_loss: 0.0272 - D3_loss: 0.0363 - D4_loss: 0.0151 - D0_categorical_accuracy: 0.9907 - D1_categorical_accuracy: 0.9883 - D2_categorical_accuracy: 0.9930 - D3_categorical_accuracy: 0.9883 - D4_categorical_accuracy: 0.9953 - val_loss: 0.4551 - val_D0_loss: 0.0062 - val_D1_loss: 0.0843 - val_D2_loss: 0.1460 - val_D3_loss: 0.1867 - val_D4_loss: 0.0319 - val_D0_categorical_accuracy: 1.0000 - val_D1_categorical_accuracy: 0.9813 - val_D2_categorical_accuracy: 0.9720 - val_D3_categorical_accuracy: 0.9533 - val_D4_categorical_accuracy: 0.9907\n",
            "Epoch 59/150\n",
            "856/856 [==============================] - 22s 25ms/step - loss: 0.1770 - D0_loss: 0.0235 - D1_loss: 0.0528 - D2_loss: 0.0434 - D3_loss: 0.0358 - D4_loss: 0.0216 - D0_categorical_accuracy: 0.9930 - D1_categorical_accuracy: 0.9836 - D2_categorical_accuracy: 0.9836 - D3_categorical_accuracy: 0.9918 - D4_categorical_accuracy: 0.9953 - val_loss: 0.4781 - val_D0_loss: 0.0248 - val_D1_loss: 0.0640 - val_D2_loss: 0.1063 - val_D3_loss: 0.1763 - val_D4_loss: 0.1067 - val_D0_categorical_accuracy: 0.9907 - val_D1_categorical_accuracy: 0.9860 - val_D2_categorical_accuracy: 0.9813 - val_D3_categorical_accuracy: 0.9439 - val_D4_categorical_accuracy: 0.9720\n",
            "Epoch 60/150\n",
            "856/856 [==============================] - 22s 26ms/step - loss: 0.1480 - D0_loss: 0.0224 - D1_loss: 0.0388 - D2_loss: 0.0189 - D3_loss: 0.0367 - D4_loss: 0.0311 - D0_categorical_accuracy: 0.9942 - D1_categorical_accuracy: 0.9907 - D2_categorical_accuracy: 0.9918 - D3_categorical_accuracy: 0.9848 - D4_categorical_accuracy: 0.9871 - val_loss: 0.4732 - val_D0_loss: 0.0265 - val_D1_loss: 0.0724 - val_D2_loss: 0.1562 - val_D3_loss: 0.1671 - val_D4_loss: 0.0511 - val_D0_categorical_accuracy: 0.9953 - val_D1_categorical_accuracy: 0.9766 - val_D2_categorical_accuracy: 0.9766 - val_D3_categorical_accuracy: 0.9579 - val_D4_categorical_accuracy: 0.9813\n",
            "Epoch 61/150\n",
            "856/856 [==============================] - 22s 26ms/step - loss: 0.1829 - D0_loss: 0.0223 - D1_loss: 0.0532 - D2_loss: 0.0320 - D3_loss: 0.0424 - D4_loss: 0.0330 - D0_categorical_accuracy: 0.9918 - D1_categorical_accuracy: 0.9825 - D2_categorical_accuracy: 0.9918 - D3_categorical_accuracy: 0.9813 - D4_categorical_accuracy: 0.9871 - val_loss: 0.5061 - val_D0_loss: 0.0497 - val_D1_loss: 0.0657 - val_D2_loss: 0.1566 - val_D3_loss: 0.1665 - val_D4_loss: 0.0676 - val_D0_categorical_accuracy: 0.9860 - val_D1_categorical_accuracy: 0.9860 - val_D2_categorical_accuracy: 0.9673 - val_D3_categorical_accuracy: 0.9720 - val_D4_categorical_accuracy: 0.9813\n",
            "Epoch 62/150\n",
            "856/856 [==============================] - 22s 26ms/step - loss: 0.1855 - D0_loss: 0.0376 - D1_loss: 0.0208 - D2_loss: 0.0322 - D3_loss: 0.0481 - D4_loss: 0.0468 - D0_categorical_accuracy: 0.9883 - D1_categorical_accuracy: 0.9942 - D2_categorical_accuracy: 0.9883 - D3_categorical_accuracy: 0.9836 - D4_categorical_accuracy: 0.9825 - val_loss: 0.5261 - val_D0_loss: 0.0541 - val_D1_loss: 0.0932 - val_D2_loss: 0.1148 - val_D3_loss: 0.1810 - val_D4_loss: 0.0831 - val_D0_categorical_accuracy: 0.9907 - val_D1_categorical_accuracy: 0.9720 - val_D2_categorical_accuracy: 0.9720 - val_D3_categorical_accuracy: 0.9766 - val_D4_categorical_accuracy: 0.9813\n",
            "Epoch 63/150\n",
            "856/856 [==============================] - 21s 25ms/step - loss: 0.1435 - D0_loss: 0.0322 - D1_loss: 0.0244 - D2_loss: 0.0320 - D3_loss: 0.0378 - D4_loss: 0.0171 - D0_categorical_accuracy: 0.9907 - D1_categorical_accuracy: 0.9930 - D2_categorical_accuracy: 0.9871 - D3_categorical_accuracy: 0.9871 - D4_categorical_accuracy: 0.9942 - val_loss: 0.5570 - val_D0_loss: 0.0028 - val_D1_loss: 0.0754 - val_D2_loss: 0.1822 - val_D3_loss: 0.1980 - val_D4_loss: 0.0985 - val_D0_categorical_accuracy: 1.0000 - val_D1_categorical_accuracy: 0.9813 - val_D2_categorical_accuracy: 0.9579 - val_D3_categorical_accuracy: 0.9393 - val_D4_categorical_accuracy: 0.9720\n",
            "Epoch 64/150\n",
            "856/856 [==============================] - 18s 21ms/step - loss: 0.1581 - D0_loss: 0.0188 - D1_loss: 0.0228 - D2_loss: 0.0427 - D3_loss: 0.0322 - D4_loss: 0.0415 - D0_categorical_accuracy: 0.9953 - D1_categorical_accuracy: 0.9918 - D2_categorical_accuracy: 0.9860 - D3_categorical_accuracy: 0.9883 - D4_categorical_accuracy: 0.9883 - val_loss: 0.4701 - val_D0_loss: 0.0241 - val_D1_loss: 0.0632 - val_D2_loss: 0.1290 - val_D3_loss: 0.1360 - val_D4_loss: 0.1178 - val_D0_categorical_accuracy: 0.9953 - val_D1_categorical_accuracy: 0.9813 - val_D2_categorical_accuracy: 0.9626 - val_D3_categorical_accuracy: 0.9579 - val_D4_categorical_accuracy: 0.9720\n",
            "Epoch 65/150\n",
            "856/856 [==============================] - 12s 13ms/step - loss: 0.1561 - D0_loss: 0.0421 - D1_loss: 0.0153 - D2_loss: 0.0321 - D3_loss: 0.0281 - D4_loss: 0.0385 - D0_categorical_accuracy: 0.9860 - D1_categorical_accuracy: 0.9942 - D2_categorical_accuracy: 0.9895 - D3_categorical_accuracy: 0.9907 - D4_categorical_accuracy: 0.9907 - val_loss: 0.5184 - val_D0_loss: 0.0462 - val_D1_loss: 0.0999 - val_D2_loss: 0.1208 - val_D3_loss: 0.1500 - val_D4_loss: 0.1015 - val_D0_categorical_accuracy: 0.9953 - val_D1_categorical_accuracy: 0.9813 - val_D2_categorical_accuracy: 0.9766 - val_D3_categorical_accuracy: 0.9626 - val_D4_categorical_accuracy: 0.9813\n",
            "Epoch 66/150\n",
            "856/856 [==============================] - 12s 13ms/step - loss: 0.2062 - D0_loss: 0.0390 - D1_loss: 0.0312 - D2_loss: 0.0389 - D3_loss: 0.0538 - D4_loss: 0.0433 - D0_categorical_accuracy: 0.9883 - D1_categorical_accuracy: 0.9871 - D2_categorical_accuracy: 0.9848 - D3_categorical_accuracy: 0.9883 - D4_categorical_accuracy: 0.9871 - val_loss: 0.4373 - val_D0_loss: 0.0349 - val_D1_loss: 0.0640 - val_D2_loss: 0.0899 - val_D3_loss: 0.2096 - val_D4_loss: 0.0388 - val_D0_categorical_accuracy: 0.9953 - val_D1_categorical_accuracy: 0.9860 - val_D2_categorical_accuracy: 0.9907 - val_D3_categorical_accuracy: 0.9626 - val_D4_categorical_accuracy: 0.9813\n",
            "Epoch 67/150\n",
            "856/856 [==============================] - 11s 13ms/step - loss: 0.1123 - D0_loss: 0.0148 - D1_loss: 0.0224 - D2_loss: 0.0260 - D3_loss: 0.0321 - D4_loss: 0.0170 - D0_categorical_accuracy: 0.9930 - D1_categorical_accuracy: 0.9918 - D2_categorical_accuracy: 0.9895 - D3_categorical_accuracy: 0.9883 - D4_categorical_accuracy: 0.9918 - val_loss: 0.4068 - val_D0_loss: 0.0210 - val_D1_loss: 0.0631 - val_D2_loss: 0.0779 - val_D3_loss: 0.1439 - val_D4_loss: 0.1008 - val_D0_categorical_accuracy: 0.9907 - val_D1_categorical_accuracy: 0.9813 - val_D2_categorical_accuracy: 0.9813 - val_D3_categorical_accuracy: 0.9673 - val_D4_categorical_accuracy: 0.9673\n",
            "Epoch 68/150\n",
            "856/856 [==============================] - 12s 13ms/step - loss: 0.1260 - D0_loss: 0.0211 - D1_loss: 0.0225 - D2_loss: 0.0265 - D3_loss: 0.0305 - D4_loss: 0.0255 - D0_categorical_accuracy: 0.9918 - D1_categorical_accuracy: 0.9930 - D2_categorical_accuracy: 0.9907 - D3_categorical_accuracy: 0.9907 - D4_categorical_accuracy: 0.9895 - val_loss: 0.4006 - val_D0_loss: 0.0590 - val_D1_loss: 0.0382 - val_D2_loss: 0.0853 - val_D3_loss: 0.1450 - val_D4_loss: 0.0731 - val_D0_categorical_accuracy: 0.9953 - val_D1_categorical_accuracy: 0.9860 - val_D2_categorical_accuracy: 0.9813 - val_D3_categorical_accuracy: 0.9579 - val_D4_categorical_accuracy: 0.9813\n",
            "Epoch 69/150\n",
            "856/856 [==============================] - 12s 14ms/step - loss: 0.1286 - D0_loss: 0.0157 - D1_loss: 0.0241 - D2_loss: 0.0432 - D3_loss: 0.0291 - D4_loss: 0.0166 - D0_categorical_accuracy: 0.9965 - D1_categorical_accuracy: 0.9895 - D2_categorical_accuracy: 0.9871 - D3_categorical_accuracy: 0.9895 - D4_categorical_accuracy: 0.9930 - val_loss: 0.4663 - val_D0_loss: 0.0778 - val_D1_loss: 0.0800 - val_D2_loss: 0.0924 - val_D3_loss: 0.1638 - val_D4_loss: 0.0523 - val_D0_categorical_accuracy: 0.9766 - val_D1_categorical_accuracy: 0.9720 - val_D2_categorical_accuracy: 0.9720 - val_D3_categorical_accuracy: 0.9533 - val_D4_categorical_accuracy: 0.9860\n",
            "Epoch 70/150\n",
            "856/856 [==============================] - 11s 13ms/step - loss: 0.1274 - D0_loss: 0.0292 - D1_loss: 0.0085 - D2_loss: 0.0334 - D3_loss: 0.0372 - D4_loss: 0.0191 - D0_categorical_accuracy: 0.9907 - D1_categorical_accuracy: 0.9977 - D2_categorical_accuracy: 0.9918 - D3_categorical_accuracy: 0.9907 - D4_categorical_accuracy: 0.9953 - val_loss: 0.3941 - val_D0_loss: 0.0397 - val_D1_loss: 0.0279 - val_D2_loss: 0.0643 - val_D3_loss: 0.1450 - val_D4_loss: 0.1172 - val_D0_categorical_accuracy: 0.9907 - val_D1_categorical_accuracy: 0.9860 - val_D2_categorical_accuracy: 0.9766 - val_D3_categorical_accuracy: 0.9813 - val_D4_categorical_accuracy: 0.9766\n",
            "Epoch 71/150\n",
            "856/856 [==============================] - 11s 13ms/step - loss: 0.1654 - D0_loss: 0.0225 - D1_loss: 0.0188 - D2_loss: 0.0592 - D3_loss: 0.0270 - D4_loss: 0.0379 - D0_categorical_accuracy: 0.9953 - D1_categorical_accuracy: 0.9942 - D2_categorical_accuracy: 0.9790 - D3_categorical_accuracy: 0.9895 - D4_categorical_accuracy: 0.9895 - val_loss: 0.5472 - val_D0_loss: 0.0473 - val_D1_loss: 0.1184 - val_D2_loss: 0.1312 - val_D3_loss: 0.1758 - val_D4_loss: 0.0745 - val_D0_categorical_accuracy: 0.9907 - val_D1_categorical_accuracy: 0.9626 - val_D2_categorical_accuracy: 0.9626 - val_D3_categorical_accuracy: 0.9626 - val_D4_categorical_accuracy: 0.9813\n",
            "Epoch 72/150\n",
            "856/856 [==============================] - 11s 13ms/step - loss: 0.1791 - D0_loss: 0.0214 - D1_loss: 0.0366 - D2_loss: 0.0455 - D3_loss: 0.0324 - D4_loss: 0.0432 - D0_categorical_accuracy: 0.9907 - D1_categorical_accuracy: 0.9871 - D2_categorical_accuracy: 0.9860 - D3_categorical_accuracy: 0.9883 - D4_categorical_accuracy: 0.9836 - val_loss: 0.4231 - val_D0_loss: 0.0674 - val_D1_loss: 0.0485 - val_D2_loss: 0.1114 - val_D3_loss: 0.1786 - val_D4_loss: 0.0172 - val_D0_categorical_accuracy: 0.9860 - val_D1_categorical_accuracy: 0.9860 - val_D2_categorical_accuracy: 0.9766 - val_D3_categorical_accuracy: 0.9579 - val_D4_categorical_accuracy: 0.9953\n",
            "Epoch 73/150\n",
            "856/856 [==============================] - 11s 13ms/step - loss: 0.1589 - D0_loss: 0.0279 - D1_loss: 0.0294 - D2_loss: 0.0339 - D3_loss: 0.0490 - D4_loss: 0.0187 - D0_categorical_accuracy: 0.9895 - D1_categorical_accuracy: 0.9895 - D2_categorical_accuracy: 0.9883 - D3_categorical_accuracy: 0.9836 - D4_categorical_accuracy: 0.9942 - val_loss: 0.6355 - val_D0_loss: 0.0544 - val_D1_loss: 0.0356 - val_D2_loss: 0.1444 - val_D3_loss: 0.1959 - val_D4_loss: 0.2052 - val_D0_categorical_accuracy: 0.9860 - val_D1_categorical_accuracy: 0.9953 - val_D2_categorical_accuracy: 0.9673 - val_D3_categorical_accuracy: 0.9393 - val_D4_categorical_accuracy: 0.9393\n",
            "Epoch 74/150\n",
            "856/856 [==============================] - 12s 13ms/step - loss: 0.1882 - D0_loss: 0.0179 - D1_loss: 0.0438 - D2_loss: 0.0615 - D3_loss: 0.0385 - D4_loss: 0.0265 - D0_categorical_accuracy: 0.9930 - D1_categorical_accuracy: 0.9825 - D2_categorical_accuracy: 0.9813 - D3_categorical_accuracy: 0.9907 - D4_categorical_accuracy: 0.9918 - val_loss: 0.5283 - val_D0_loss: 0.0355 - val_D1_loss: 0.1162 - val_D2_loss: 0.1199 - val_D3_loss: 0.1879 - val_D4_loss: 0.0689 - val_D0_categorical_accuracy: 0.9953 - val_D1_categorical_accuracy: 0.9720 - val_D2_categorical_accuracy: 0.9673 - val_D3_categorical_accuracy: 0.9579 - val_D4_categorical_accuracy: 0.9720\n",
            "Epoch 75/150\n",
            "856/856 [==============================] - 12s 14ms/step - loss: 0.1782 - D0_loss: 0.0522 - D1_loss: 0.0310 - D2_loss: 0.0474 - D3_loss: 0.0324 - D4_loss: 0.0153 - D0_categorical_accuracy: 0.9860 - D1_categorical_accuracy: 0.9907 - D2_categorical_accuracy: 0.9825 - D3_categorical_accuracy: 0.9883 - D4_categorical_accuracy: 0.9977 - val_loss: 0.5740 - val_D0_loss: 0.0311 - val_D1_loss: 0.1668 - val_D2_loss: 0.1441 - val_D3_loss: 0.2064 - val_D4_loss: 0.0257 - val_D0_categorical_accuracy: 0.9953 - val_D1_categorical_accuracy: 0.9766 - val_D2_categorical_accuracy: 0.9720 - val_D3_categorical_accuracy: 0.9533 - val_D4_categorical_accuracy: 0.9860\n",
            "Epoch 76/150\n",
            "856/856 [==============================] - 12s 14ms/step - loss: 0.1181 - D0_loss: 0.0123 - D1_loss: 0.0319 - D2_loss: 0.0177 - D3_loss: 0.0195 - D4_loss: 0.0367 - D0_categorical_accuracy: 0.9965 - D1_categorical_accuracy: 0.9907 - D2_categorical_accuracy: 0.9953 - D3_categorical_accuracy: 0.9942 - D4_categorical_accuracy: 0.9848 - val_loss: 0.4559 - val_D0_loss: 0.0083 - val_D1_loss: 0.0859 - val_D2_loss: 0.1411 - val_D3_loss: 0.1384 - val_D4_loss: 0.0822 - val_D0_categorical_accuracy: 0.9953 - val_D1_categorical_accuracy: 0.9766 - val_D2_categorical_accuracy: 0.9673 - val_D3_categorical_accuracy: 0.9626 - val_D4_categorical_accuracy: 0.9626\n",
            "Epoch 77/150\n",
            "856/856 [==============================] - 12s 14ms/step - loss: 0.1225 - D0_loss: 0.0129 - D1_loss: 0.0299 - D2_loss: 0.0188 - D3_loss: 0.0318 - D4_loss: 0.0291 - D0_categorical_accuracy: 0.9977 - D1_categorical_accuracy: 0.9907 - D2_categorical_accuracy: 0.9942 - D3_categorical_accuracy: 0.9930 - D4_categorical_accuracy: 0.9883 - val_loss: 0.4800 - val_D0_loss: 0.0545 - val_D1_loss: 0.0879 - val_D2_loss: 0.1512 - val_D3_loss: 0.1580 - val_D4_loss: 0.0284 - val_D0_categorical_accuracy: 0.9860 - val_D1_categorical_accuracy: 0.9860 - val_D2_categorical_accuracy: 0.9720 - val_D3_categorical_accuracy: 0.9626 - val_D4_categorical_accuracy: 0.9907\n",
            "Epoch 78/150\n",
            "856/856 [==============================] - 12s 14ms/step - loss: 0.1330 - D0_loss: 0.0343 - D1_loss: 0.0371 - D2_loss: 0.0234 - D3_loss: 0.0274 - D4_loss: 0.0107 - D0_categorical_accuracy: 0.9895 - D1_categorical_accuracy: 0.9930 - D2_categorical_accuracy: 0.9895 - D3_categorical_accuracy: 0.9918 - D4_categorical_accuracy: 0.9965 - val_loss: 0.5071 - val_D0_loss: 0.0178 - val_D1_loss: 0.1137 - val_D2_loss: 0.1515 - val_D3_loss: 0.1756 - val_D4_loss: 0.0485 - val_D0_categorical_accuracy: 0.9953 - val_D1_categorical_accuracy: 0.9813 - val_D2_categorical_accuracy: 0.9626 - val_D3_categorical_accuracy: 0.9579 - val_D4_categorical_accuracy: 0.9813\n",
            "Epoch 79/150\n",
            "856/856 [==============================] - 13s 15ms/step - loss: 0.1292 - D0_loss: 0.0092 - D1_loss: 0.0326 - D2_loss: 0.0257 - D3_loss: 0.0352 - D4_loss: 0.0265 - D0_categorical_accuracy: 0.9977 - D1_categorical_accuracy: 0.9860 - D2_categorical_accuracy: 0.9895 - D3_categorical_accuracy: 0.9883 - D4_categorical_accuracy: 0.9930 - val_loss: 0.4809 - val_D0_loss: 0.0518 - val_D1_loss: 0.0918 - val_D2_loss: 0.1354 - val_D3_loss: 0.1575 - val_D4_loss: 0.0444 - val_D0_categorical_accuracy: 0.9860 - val_D1_categorical_accuracy: 0.9766 - val_D2_categorical_accuracy: 0.9720 - val_D3_categorical_accuracy: 0.9579 - val_D4_categorical_accuracy: 0.9907\n",
            "Epoch 80/150\n",
            "856/856 [==============================] - 12s 14ms/step - loss: 0.1240 - D0_loss: 0.0163 - D1_loss: 0.0286 - D2_loss: 0.0157 - D3_loss: 0.0379 - D4_loss: 0.0257 - D0_categorical_accuracy: 0.9918 - D1_categorical_accuracy: 0.9918 - D2_categorical_accuracy: 0.9953 - D3_categorical_accuracy: 0.9883 - D4_categorical_accuracy: 0.9930 - val_loss: 0.5310 - val_D0_loss: 0.0514 - val_D1_loss: 0.0961 - val_D2_loss: 0.1339 - val_D3_loss: 0.2089 - val_D4_loss: 0.0406 - val_D0_categorical_accuracy: 0.9907 - val_D1_categorical_accuracy: 0.9860 - val_D2_categorical_accuracy: 0.9766 - val_D3_categorical_accuracy: 0.9439 - val_D4_categorical_accuracy: 0.9907\n",
            "Epoch 81/150\n",
            "856/856 [==============================] - 12s 14ms/step - loss: 0.1674 - D0_loss: 0.0346 - D1_loss: 0.0379 - D2_loss: 0.0301 - D3_loss: 0.0305 - D4_loss: 0.0344 - D0_categorical_accuracy: 0.9883 - D1_categorical_accuracy: 0.9895 - D2_categorical_accuracy: 0.9918 - D3_categorical_accuracy: 0.9895 - D4_categorical_accuracy: 0.9871 - val_loss: 0.3961 - val_D0_loss: 0.0390 - val_D1_loss: 0.0716 - val_D2_loss: 0.1053 - val_D3_loss: 0.1025 - val_D4_loss: 0.0777 - val_D0_categorical_accuracy: 0.9860 - val_D1_categorical_accuracy: 0.9953 - val_D2_categorical_accuracy: 0.9766 - val_D3_categorical_accuracy: 0.9766 - val_D4_categorical_accuracy: 0.9720\n",
            "Epoch 82/150\n",
            "856/856 [==============================] - 12s 14ms/step - loss: 0.1300 - D0_loss: 0.0306 - D1_loss: 0.0312 - D2_loss: 0.0367 - D3_loss: 0.0172 - D4_loss: 0.0143 - D0_categorical_accuracy: 0.9895 - D1_categorical_accuracy: 0.9918 - D2_categorical_accuracy: 0.9860 - D3_categorical_accuracy: 0.9965 - D4_categorical_accuracy: 0.9988 - val_loss: 0.4365 - val_D0_loss: 0.0075 - val_D1_loss: 0.0752 - val_D2_loss: 0.1645 - val_D3_loss: 0.1501 - val_D4_loss: 0.0392 - val_D0_categorical_accuracy: 0.9953 - val_D1_categorical_accuracy: 0.9860 - val_D2_categorical_accuracy: 0.9813 - val_D3_categorical_accuracy: 0.9673 - val_D4_categorical_accuracy: 0.9766\n",
            "Epoch 83/150\n",
            "856/856 [==============================] - 12s 13ms/step - loss: 0.1316 - D0_loss: 0.0183 - D1_loss: 0.0275 - D2_loss: 0.0241 - D3_loss: 0.0307 - D4_loss: 0.0309 - D0_categorical_accuracy: 0.9930 - D1_categorical_accuracy: 0.9871 - D2_categorical_accuracy: 0.9907 - D3_categorical_accuracy: 0.9895 - D4_categorical_accuracy: 0.9918 - val_loss: 0.4329 - val_D0_loss: 0.0278 - val_D1_loss: 0.0707 - val_D2_loss: 0.1753 - val_D3_loss: 0.1175 - val_D4_loss: 0.0415 - val_D0_categorical_accuracy: 0.9953 - val_D1_categorical_accuracy: 0.9813 - val_D2_categorical_accuracy: 0.9673 - val_D3_categorical_accuracy: 0.9766 - val_D4_categorical_accuracy: 0.9860\n",
            "Epoch 84/150\n",
            "856/856 [==============================] - 12s 13ms/step - loss: 0.1271 - D0_loss: 0.0234 - D1_loss: 0.0334 - D2_loss: 0.0214 - D3_loss: 0.0291 - D4_loss: 0.0198 - D0_categorical_accuracy: 0.9918 - D1_categorical_accuracy: 0.9883 - D2_categorical_accuracy: 0.9930 - D3_categorical_accuracy: 0.9883 - D4_categorical_accuracy: 0.9953 - val_loss: 0.4400 - val_D0_loss: 0.0172 - val_D1_loss: 0.0710 - val_D2_loss: 0.1351 - val_D3_loss: 0.1455 - val_D4_loss: 0.0713 - val_D0_categorical_accuracy: 0.9953 - val_D1_categorical_accuracy: 0.9953 - val_D2_categorical_accuracy: 0.9766 - val_D3_categorical_accuracy: 0.9673 - val_D4_categorical_accuracy: 0.9860\n",
            "Epoch 85/150\n",
            "856/856 [==============================] - 12s 14ms/step - loss: 0.0886 - D0_loss: 0.0095 - D1_loss: 0.0122 - D2_loss: 0.0347 - D3_loss: 0.0152 - D4_loss: 0.0171 - D0_categorical_accuracy: 0.9977 - D1_categorical_accuracy: 0.9965 - D2_categorical_accuracy: 0.9883 - D3_categorical_accuracy: 0.9930 - D4_categorical_accuracy: 0.9965 - val_loss: 0.4826 - val_D0_loss: 0.0205 - val_D1_loss: 0.1358 - val_D2_loss: 0.1070 - val_D3_loss: 0.1707 - val_D4_loss: 0.0486 - val_D0_categorical_accuracy: 0.9953 - val_D1_categorical_accuracy: 0.9720 - val_D2_categorical_accuracy: 0.9766 - val_D3_categorical_accuracy: 0.9626 - val_D4_categorical_accuracy: 0.9860\n",
            "Epoch 86/150\n",
            "856/856 [==============================] - 12s 14ms/step - loss: 0.0849 - D0_loss: 0.0122 - D1_loss: 0.0190 - D2_loss: 0.0227 - D3_loss: 0.0136 - D4_loss: 0.0174 - D0_categorical_accuracy: 0.9977 - D1_categorical_accuracy: 0.9918 - D2_categorical_accuracy: 0.9918 - D3_categorical_accuracy: 0.9965 - D4_categorical_accuracy: 0.9918 - val_loss: 0.3961 - val_D0_loss: 0.0325 - val_D1_loss: 0.0796 - val_D2_loss: 0.1061 - val_D3_loss: 0.1639 - val_D4_loss: 0.0140 - val_D0_categorical_accuracy: 0.9953 - val_D1_categorical_accuracy: 0.9813 - val_D2_categorical_accuracy: 0.9813 - val_D3_categorical_accuracy: 0.9673 - val_D4_categorical_accuracy: 0.9953\n",
            "Epoch 87/150\n",
            "856/856 [==============================] - 12s 14ms/step - loss: 0.1335 - D0_loss: 0.0160 - D1_loss: 0.0216 - D2_loss: 0.0356 - D3_loss: 0.0331 - D4_loss: 0.0271 - D0_categorical_accuracy: 0.9953 - D1_categorical_accuracy: 0.9953 - D2_categorical_accuracy: 0.9907 - D3_categorical_accuracy: 0.9895 - D4_categorical_accuracy: 0.9942 - val_loss: 0.5244 - val_D0_loss: 0.0111 - val_D1_loss: 0.1523 - val_D2_loss: 0.1496 - val_D3_loss: 0.1964 - val_D4_loss: 0.0149 - val_D0_categorical_accuracy: 0.9953 - val_D1_categorical_accuracy: 0.9766 - val_D2_categorical_accuracy: 0.9720 - val_D3_categorical_accuracy: 0.9626 - val_D4_categorical_accuracy: 0.9953\n",
            "Epoch 88/150\n",
            "856/856 [==============================] - 12s 14ms/step - loss: 0.2065 - D0_loss: 0.0345 - D1_loss: 0.0330 - D2_loss: 0.0283 - D3_loss: 0.0708 - D4_loss: 0.0399 - D0_categorical_accuracy: 0.9883 - D1_categorical_accuracy: 0.9907 - D2_categorical_accuracy: 0.9895 - D3_categorical_accuracy: 0.9825 - D4_categorical_accuracy: 0.9860 - val_loss: 0.4523 - val_D0_loss: 0.0180 - val_D1_loss: 0.1169 - val_D2_loss: 0.1596 - val_D3_loss: 0.1319 - val_D4_loss: 0.0259 - val_D0_categorical_accuracy: 0.9953 - val_D1_categorical_accuracy: 0.9766 - val_D2_categorical_accuracy: 0.9720 - val_D3_categorical_accuracy: 0.9626 - val_D4_categorical_accuracy: 0.9813\n",
            "Epoch 89/150\n",
            "856/856 [==============================] - 12s 14ms/step - loss: 0.1583 - D0_loss: 0.0232 - D1_loss: 0.0295 - D2_loss: 0.0435 - D3_loss: 0.0353 - D4_loss: 0.0267 - D0_categorical_accuracy: 0.9895 - D1_categorical_accuracy: 0.9918 - D2_categorical_accuracy: 0.9907 - D3_categorical_accuracy: 0.9883 - D4_categorical_accuracy: 0.9918 - val_loss: 0.5060 - val_D0_loss: 0.0208 - val_D1_loss: 0.1215 - val_D2_loss: 0.1464 - val_D3_loss: 0.1475 - val_D4_loss: 0.0697 - val_D0_categorical_accuracy: 0.9907 - val_D1_categorical_accuracy: 0.9813 - val_D2_categorical_accuracy: 0.9720 - val_D3_categorical_accuracy: 0.9720 - val_D4_categorical_accuracy: 0.9813\n",
            "Epoch 90/150\n",
            "856/856 [==============================] - 12s 14ms/step - loss: 0.1715 - D0_loss: 0.0210 - D1_loss: 0.0633 - D2_loss: 0.0384 - D3_loss: 0.0117 - D4_loss: 0.0370 - D0_categorical_accuracy: 0.9918 - D1_categorical_accuracy: 0.9825 - D2_categorical_accuracy: 0.9907 - D3_categorical_accuracy: 0.9965 - D4_categorical_accuracy: 0.9871 - val_loss: 0.6477 - val_D0_loss: 0.0328 - val_D1_loss: 0.1221 - val_D2_loss: 0.1943 - val_D3_loss: 0.1606 - val_D4_loss: 0.1380 - val_D0_categorical_accuracy: 0.9953 - val_D1_categorical_accuracy: 0.9860 - val_D2_categorical_accuracy: 0.9579 - val_D3_categorical_accuracy: 0.9673 - val_D4_categorical_accuracy: 0.9579\n",
            "Epoch 91/150\n",
            "856/856 [==============================] - 12s 14ms/step - loss: 0.1489 - D0_loss: 0.0410 - D1_loss: 0.0257 - D2_loss: 0.0165 - D3_loss: 0.0439 - D4_loss: 0.0218 - D0_categorical_accuracy: 0.9860 - D1_categorical_accuracy: 0.9918 - D2_categorical_accuracy: 0.9977 - D3_categorical_accuracy: 0.9883 - D4_categorical_accuracy: 0.9930 - val_loss: 0.4464 - val_D0_loss: 0.0179 - val_D1_loss: 0.0840 - val_D2_loss: 0.1315 - val_D3_loss: 0.1977 - val_D4_loss: 0.0153 - val_D0_categorical_accuracy: 0.9953 - val_D1_categorical_accuracy: 0.9813 - val_D2_categorical_accuracy: 0.9813 - val_D3_categorical_accuracy: 0.9626 - val_D4_categorical_accuracy: 0.9907\n",
            "Epoch 92/150\n",
            "856/856 [==============================] - 12s 14ms/step - loss: 0.1422 - D0_loss: 0.0348 - D1_loss: 0.0268 - D2_loss: 0.0371 - D3_loss: 0.0177 - D4_loss: 0.0257 - D0_categorical_accuracy: 0.9848 - D1_categorical_accuracy: 0.9930 - D2_categorical_accuracy: 0.9836 - D3_categorical_accuracy: 0.9942 - D4_categorical_accuracy: 0.9895 - val_loss: 0.3832 - val_D0_loss: 0.0263 - val_D1_loss: 0.0901 - val_D2_loss: 0.1120 - val_D3_loss: 0.0975 - val_D4_loss: 0.0573 - val_D0_categorical_accuracy: 0.9953 - val_D1_categorical_accuracy: 0.9766 - val_D2_categorical_accuracy: 0.9673 - val_D3_categorical_accuracy: 0.9720 - val_D4_categorical_accuracy: 0.9720\n",
            "Epoch 93/150\n",
            "856/856 [==============================] - 12s 14ms/step - loss: 0.0989 - D0_loss: 0.0113 - D1_loss: 0.0171 - D2_loss: 0.0313 - D3_loss: 0.0226 - D4_loss: 0.0167 - D0_categorical_accuracy: 0.9953 - D1_categorical_accuracy: 0.9918 - D2_categorical_accuracy: 0.9883 - D3_categorical_accuracy: 0.9930 - D4_categorical_accuracy: 0.9965 - val_loss: 0.4249 - val_D0_loss: 0.0335 - val_D1_loss: 0.0715 - val_D2_loss: 0.1103 - val_D3_loss: 0.1586 - val_D4_loss: 0.0509 - val_D0_categorical_accuracy: 0.9953 - val_D1_categorical_accuracy: 0.9860 - val_D2_categorical_accuracy: 0.9673 - val_D3_categorical_accuracy: 0.9673 - val_D4_categorical_accuracy: 0.9720\n",
            "Epoch 94/150\n",
            "856/856 [==============================] - 12s 14ms/step - loss: 0.0936 - D0_loss: 0.0258 - D1_loss: 0.0186 - D2_loss: 0.0137 - D3_loss: 0.0128 - D4_loss: 0.0227 - D0_categorical_accuracy: 0.9883 - D1_categorical_accuracy: 0.9930 - D2_categorical_accuracy: 0.9977 - D3_categorical_accuracy: 0.9977 - D4_categorical_accuracy: 0.9942 - val_loss: 0.3791 - val_D0_loss: 0.0322 - val_D1_loss: 0.0587 - val_D2_loss: 0.1378 - val_D3_loss: 0.1113 - val_D4_loss: 0.0391 - val_D0_categorical_accuracy: 0.9953 - val_D1_categorical_accuracy: 0.9860 - val_D2_categorical_accuracy: 0.9626 - val_D3_categorical_accuracy: 0.9720 - val_D4_categorical_accuracy: 0.9813\n",
            "Epoch 95/150\n",
            "856/856 [==============================] - 12s 13ms/step - loss: 0.1488 - D0_loss: 0.0290 - D1_loss: 0.0084 - D2_loss: 0.0350 - D3_loss: 0.0442 - D4_loss: 0.0321 - D0_categorical_accuracy: 0.9930 - D1_categorical_accuracy: 0.9977 - D2_categorical_accuracy: 0.9860 - D3_categorical_accuracy: 0.9836 - D4_categorical_accuracy: 0.9942 - val_loss: 0.6322 - val_D0_loss: 0.0761 - val_D1_loss: 0.0951 - val_D2_loss: 0.1911 - val_D3_loss: 0.1797 - val_D4_loss: 0.0903 - val_D0_categorical_accuracy: 0.9953 - val_D1_categorical_accuracy: 0.9766 - val_D2_categorical_accuracy: 0.9673 - val_D3_categorical_accuracy: 0.9720 - val_D4_categorical_accuracy: 0.9860\n",
            "Epoch 96/150\n",
            "856/856 [==============================] - 12s 13ms/step - loss: 0.1176 - D0_loss: 0.0210 - D1_loss: 0.0114 - D2_loss: 0.0221 - D3_loss: 0.0375 - D4_loss: 0.0256 - D0_categorical_accuracy: 0.9907 - D1_categorical_accuracy: 0.9977 - D2_categorical_accuracy: 0.9918 - D3_categorical_accuracy: 0.9895 - D4_categorical_accuracy: 0.9918 - val_loss: 0.4278 - val_D0_loss: 0.0747 - val_D1_loss: 0.0676 - val_D2_loss: 0.1050 - val_D3_loss: 0.1411 - val_D4_loss: 0.0394 - val_D0_categorical_accuracy: 0.9953 - val_D1_categorical_accuracy: 0.9766 - val_D2_categorical_accuracy: 0.9720 - val_D3_categorical_accuracy: 0.9766 - val_D4_categorical_accuracy: 0.9953\n",
            "Epoch 97/150\n",
            "856/856 [==============================] - 12s 13ms/step - loss: 0.1751 - D0_loss: 0.0119 - D1_loss: 0.0491 - D2_loss: 0.0553 - D3_loss: 0.0263 - D4_loss: 0.0324 - D0_categorical_accuracy: 0.9977 - D1_categorical_accuracy: 0.9895 - D2_categorical_accuracy: 0.9871 - D3_categorical_accuracy: 0.9883 - D4_categorical_accuracy: 0.9907 - val_loss: 0.5461 - val_D0_loss: 0.0402 - val_D1_loss: 0.0778 - val_D2_loss: 0.1795 - val_D3_loss: 0.1480 - val_D4_loss: 0.1007 - val_D0_categorical_accuracy: 0.9953 - val_D1_categorical_accuracy: 0.9813 - val_D2_categorical_accuracy: 0.9626 - val_D3_categorical_accuracy: 0.9720 - val_D4_categorical_accuracy: 0.9720\n",
            "Epoch 98/150\n",
            "856/856 [==============================] - 12s 13ms/step - loss: 0.1736 - D0_loss: 0.0560 - D1_loss: 0.0312 - D2_loss: 0.0332 - D3_loss: 0.0154 - D4_loss: 0.0379 - D0_categorical_accuracy: 0.9813 - D1_categorical_accuracy: 0.9895 - D2_categorical_accuracy: 0.9895 - D3_categorical_accuracy: 0.9930 - D4_categorical_accuracy: 0.9895 - val_loss: 0.6663 - val_D0_loss: 0.1576 - val_D1_loss: 0.1012 - val_D2_loss: 0.1537 - val_D3_loss: 0.1095 - val_D4_loss: 0.1443 - val_D0_categorical_accuracy: 0.9626 - val_D1_categorical_accuracy: 0.9813 - val_D2_categorical_accuracy: 0.9626 - val_D3_categorical_accuracy: 0.9673 - val_D4_categorical_accuracy: 0.9533\n",
            "Epoch 99/150\n",
            "856/856 [==============================] - 12s 13ms/step - loss: 0.1539 - D0_loss: 0.0179 - D1_loss: 0.0293 - D2_loss: 0.0406 - D3_loss: 0.0320 - D4_loss: 0.0340 - D0_categorical_accuracy: 0.9942 - D1_categorical_accuracy: 0.9907 - D2_categorical_accuracy: 0.9883 - D3_categorical_accuracy: 0.9871 - D4_categorical_accuracy: 0.9883 - val_loss: 0.5875 - val_D0_loss: 0.0464 - val_D1_loss: 0.0923 - val_D2_loss: 0.1719 - val_D3_loss: 0.1852 - val_D4_loss: 0.0917 - val_D0_categorical_accuracy: 0.9953 - val_D1_categorical_accuracy: 0.9860 - val_D2_categorical_accuracy: 0.9579 - val_D3_categorical_accuracy: 0.9579 - val_D4_categorical_accuracy: 0.9813\n",
            "Epoch 100/150\n",
            "856/856 [==============================] - 12s 13ms/step - loss: 0.1527 - D0_loss: 0.0304 - D1_loss: 0.0256 - D2_loss: 0.0372 - D3_loss: 0.0336 - D4_loss: 0.0259 - D0_categorical_accuracy: 0.9918 - D1_categorical_accuracy: 0.9930 - D2_categorical_accuracy: 0.9871 - D3_categorical_accuracy: 0.9895 - D4_categorical_accuracy: 0.9895 - val_loss: 0.5033 - val_D0_loss: 0.0118 - val_D1_loss: 0.0583 - val_D2_loss: 0.1952 - val_D3_loss: 0.1320 - val_D4_loss: 0.1060 - val_D0_categorical_accuracy: 0.9953 - val_D1_categorical_accuracy: 0.9860 - val_D2_categorical_accuracy: 0.9766 - val_D3_categorical_accuracy: 0.9579 - val_D4_categorical_accuracy: 0.9626\n",
            "Epoch 101/150\n",
            "856/856 [==============================] - 12s 13ms/step - loss: 0.1356 - D0_loss: 0.0211 - D1_loss: 0.0325 - D2_loss: 0.0319 - D3_loss: 0.0207 - D4_loss: 0.0294 - D0_categorical_accuracy: 0.9930 - D1_categorical_accuracy: 0.9918 - D2_categorical_accuracy: 0.9907 - D3_categorical_accuracy: 0.9907 - D4_categorical_accuracy: 0.9918 - val_loss: 0.4509 - val_D0_loss: 0.0318 - val_D1_loss: 0.1092 - val_D2_loss: 0.1057 - val_D3_loss: 0.1554 - val_D4_loss: 0.0488 - val_D0_categorical_accuracy: 0.9953 - val_D1_categorical_accuracy: 0.9860 - val_D2_categorical_accuracy: 0.9766 - val_D3_categorical_accuracy: 0.9673 - val_D4_categorical_accuracy: 0.9907\n",
            "Epoch 102/150\n",
            "856/856 [==============================] - 12s 13ms/step - loss: 0.1036 - D0_loss: 0.0289 - D1_loss: 0.0102 - D2_loss: 0.0262 - D3_loss: 0.0205 - D4_loss: 0.0178 - D0_categorical_accuracy: 0.9918 - D1_categorical_accuracy: 0.9977 - D2_categorical_accuracy: 0.9930 - D3_categorical_accuracy: 0.9918 - D4_categorical_accuracy: 0.9942 - val_loss: 0.5779 - val_D0_loss: 0.0847 - val_D1_loss: 0.0879 - val_D2_loss: 0.1986 - val_D3_loss: 0.1434 - val_D4_loss: 0.0632 - val_D0_categorical_accuracy: 0.9907 - val_D1_categorical_accuracy: 0.9860 - val_D2_categorical_accuracy: 0.9673 - val_D3_categorical_accuracy: 0.9720 - val_D4_categorical_accuracy: 0.9907\n",
            "Epoch 103/150\n",
            "856/856 [==============================] - 11s 13ms/step - loss: 0.0992 - D0_loss: 0.0188 - D1_loss: 0.0136 - D2_loss: 0.0229 - D3_loss: 0.0211 - D4_loss: 0.0228 - D0_categorical_accuracy: 0.9942 - D1_categorical_accuracy: 0.9953 - D2_categorical_accuracy: 0.9942 - D3_categorical_accuracy: 0.9942 - D4_categorical_accuracy: 0.9907 - val_loss: 0.5260 - val_D0_loss: 0.0529 - val_D1_loss: 0.0965 - val_D2_loss: 0.1674 - val_D3_loss: 0.1623 - val_D4_loss: 0.0469 - val_D0_categorical_accuracy: 0.9907 - val_D1_categorical_accuracy: 0.9860 - val_D2_categorical_accuracy: 0.9673 - val_D3_categorical_accuracy: 0.9720 - val_D4_categorical_accuracy: 0.9907\n",
            "Epoch 104/150\n",
            "856/856 [==============================] - 11s 13ms/step - loss: 0.1201 - D0_loss: 0.0321 - D1_loss: 0.0228 - D2_loss: 0.0119 - D3_loss: 0.0432 - D4_loss: 0.0101 - D0_categorical_accuracy: 0.9883 - D1_categorical_accuracy: 0.9930 - D2_categorical_accuracy: 0.9942 - D3_categorical_accuracy: 0.9848 - D4_categorical_accuracy: 0.9965 - val_loss: 0.6397 - val_D0_loss: 0.0631 - val_D1_loss: 0.0984 - val_D2_loss: 0.1605 - val_D3_loss: 0.2415 - val_D4_loss: 0.0763 - val_D0_categorical_accuracy: 0.9860 - val_D1_categorical_accuracy: 0.9860 - val_D2_categorical_accuracy: 0.9533 - val_D3_categorical_accuracy: 0.9579 - val_D4_categorical_accuracy: 0.9813\n",
            "Epoch 105/150\n",
            "856/856 [==============================] - 11s 13ms/step - loss: 0.2124 - D0_loss: 0.0438 - D1_loss: 0.0319 - D2_loss: 0.0209 - D3_loss: 0.0616 - D4_loss: 0.0542 - D0_categorical_accuracy: 0.9907 - D1_categorical_accuracy: 0.9883 - D2_categorical_accuracy: 0.9907 - D3_categorical_accuracy: 0.9836 - D4_categorical_accuracy: 0.9848 - val_loss: 0.7735 - val_D0_loss: 0.0778 - val_D1_loss: 0.0907 - val_D2_loss: 0.1941 - val_D3_loss: 0.2926 - val_D4_loss: 0.1184 - val_D0_categorical_accuracy: 0.9860 - val_D1_categorical_accuracy: 0.9860 - val_D2_categorical_accuracy: 0.9579 - val_D3_categorical_accuracy: 0.9533 - val_D4_categorical_accuracy: 0.9813\n",
            "Epoch 106/150\n",
            "856/856 [==============================] - 12s 14ms/step - loss: 0.1311 - D0_loss: 0.0186 - D1_loss: 0.0263 - D2_loss: 0.0176 - D3_loss: 0.0319 - D4_loss: 0.0367 - D0_categorical_accuracy: 0.9930 - D1_categorical_accuracy: 0.9918 - D2_categorical_accuracy: 0.9965 - D3_categorical_accuracy: 0.9883 - D4_categorical_accuracy: 0.9883 - val_loss: 0.4325 - val_D0_loss: 0.0641 - val_D1_loss: 0.0684 - val_D2_loss: 0.1219 - val_D3_loss: 0.1317 - val_D4_loss: 0.0463 - val_D0_categorical_accuracy: 0.9953 - val_D1_categorical_accuracy: 0.9860 - val_D2_categorical_accuracy: 0.9673 - val_D3_categorical_accuracy: 0.9813 - val_D4_categorical_accuracy: 0.9907\n",
            "Epoch 107/150\n",
            "856/856 [==============================] - 11s 13ms/step - loss: 0.1026 - D0_loss: 0.0213 - D1_loss: 0.0208 - D2_loss: 0.0282 - D3_loss: 0.0156 - D4_loss: 0.0168 - D0_categorical_accuracy: 0.9918 - D1_categorical_accuracy: 0.9953 - D2_categorical_accuracy: 0.9907 - D3_categorical_accuracy: 0.9953 - D4_categorical_accuracy: 0.9942 - val_loss: 0.4760 - val_D0_loss: 0.0659 - val_D1_loss: 0.0444 - val_D2_loss: 0.1747 - val_D3_loss: 0.1304 - val_D4_loss: 0.0607 - val_D0_categorical_accuracy: 0.9907 - val_D1_categorical_accuracy: 0.9907 - val_D2_categorical_accuracy: 0.9626 - val_D3_categorical_accuracy: 0.9766 - val_D4_categorical_accuracy: 0.9860\n",
            "Epoch 108/150\n",
            "856/856 [==============================] - 11s 13ms/step - loss: 0.1107 - D0_loss: 0.0213 - D1_loss: 0.0245 - D2_loss: 0.0218 - D3_loss: 0.0258 - D4_loss: 0.0172 - D0_categorical_accuracy: 0.9942 - D1_categorical_accuracy: 0.9895 - D2_categorical_accuracy: 0.9918 - D3_categorical_accuracy: 0.9907 - D4_categorical_accuracy: 0.9953 - val_loss: 0.4272 - val_D0_loss: 0.0646 - val_D1_loss: 0.0576 - val_D2_loss: 0.1351 - val_D3_loss: 0.1274 - val_D4_loss: 0.0426 - val_D0_categorical_accuracy: 0.9953 - val_D1_categorical_accuracy: 0.9907 - val_D2_categorical_accuracy: 0.9673 - val_D3_categorical_accuracy: 0.9766 - val_D4_categorical_accuracy: 0.9907\n",
            "Epoch 109/150\n",
            "856/856 [==============================] - 11s 13ms/step - loss: 0.0878 - D0_loss: 0.0137 - D1_loss: 0.0188 - D2_loss: 0.0237 - D3_loss: 0.0225 - D4_loss: 0.0091 - D0_categorical_accuracy: 0.9965 - D1_categorical_accuracy: 0.9953 - D2_categorical_accuracy: 0.9918 - D3_categorical_accuracy: 0.9942 - D4_categorical_accuracy: 0.9965 - val_loss: 0.4938 - val_D0_loss: 0.0677 - val_D1_loss: 0.0282 - val_D2_loss: 0.1979 - val_D3_loss: 0.1427 - val_D4_loss: 0.0573 - val_D0_categorical_accuracy: 0.9953 - val_D1_categorical_accuracy: 0.9907 - val_D2_categorical_accuracy: 0.9626 - val_D3_categorical_accuracy: 0.9813 - val_D4_categorical_accuracy: 0.9860\n",
            "Epoch 110/150\n",
            "856/856 [==============================] - 11s 13ms/step - loss: 0.1050 - D0_loss: 0.0106 - D1_loss: 0.0221 - D2_loss: 0.0194 - D3_loss: 0.0352 - D4_loss: 0.0176 - D0_categorical_accuracy: 0.9965 - D1_categorical_accuracy: 0.9918 - D2_categorical_accuracy: 0.9907 - D3_categorical_accuracy: 0.9836 - D4_categorical_accuracy: 0.9930 - val_loss: 0.4039 - val_D0_loss: 0.0553 - val_D1_loss: 0.0247 - val_D2_loss: 0.0641 - val_D3_loss: 0.1550 - val_D4_loss: 0.1048 - val_D0_categorical_accuracy: 0.9907 - val_D1_categorical_accuracy: 0.9860 - val_D2_categorical_accuracy: 0.9720 - val_D3_categorical_accuracy: 0.9673 - val_D4_categorical_accuracy: 0.9813\n",
            "Epoch 111/150\n",
            "856/856 [==============================] - 11s 13ms/step - loss: 0.0714 - D0_loss: 0.0071 - D1_loss: 0.0177 - D2_loss: 0.0150 - D3_loss: 0.0128 - D4_loss: 0.0188 - D0_categorical_accuracy: 0.9965 - D1_categorical_accuracy: 0.9930 - D2_categorical_accuracy: 0.9942 - D3_categorical_accuracy: 0.9965 - D4_categorical_accuracy: 0.9953 - val_loss: 0.4049 - val_D0_loss: 0.0538 - val_D1_loss: 0.0208 - val_D2_loss: 0.1829 - val_D3_loss: 0.1268 - val_D4_loss: 0.0206 - val_D0_categorical_accuracy: 0.9953 - val_D1_categorical_accuracy: 0.9907 - val_D2_categorical_accuracy: 0.9720 - val_D3_categorical_accuracy: 0.9766 - val_D4_categorical_accuracy: 0.9953\n",
            "Epoch 112/150\n",
            "856/856 [==============================] - 11s 13ms/step - loss: 0.1057 - D0_loss: 0.0161 - D1_loss: 0.0240 - D2_loss: 0.0166 - D3_loss: 0.0232 - D4_loss: 0.0259 - D0_categorical_accuracy: 0.9930 - D1_categorical_accuracy: 0.9918 - D2_categorical_accuracy: 0.9930 - D3_categorical_accuracy: 0.9942 - D4_categorical_accuracy: 0.9907 - val_loss: 0.4341 - val_D0_loss: 0.0659 - val_D1_loss: 0.0397 - val_D2_loss: 0.1275 - val_D3_loss: 0.1503 - val_D4_loss: 0.0508 - val_D0_categorical_accuracy: 0.9953 - val_D1_categorical_accuracy: 0.9860 - val_D2_categorical_accuracy: 0.9673 - val_D3_categorical_accuracy: 0.9673 - val_D4_categorical_accuracy: 0.9953\n",
            "Epoch 113/150\n",
            "856/856 [==============================] - 11s 13ms/step - loss: 0.1279 - D0_loss: 0.0268 - D1_loss: 0.0441 - D2_loss: 0.0164 - D3_loss: 0.0080 - D4_loss: 0.0325 - D0_categorical_accuracy: 0.9953 - D1_categorical_accuracy: 0.9871 - D2_categorical_accuracy: 0.9953 - D3_categorical_accuracy: 0.9977 - D4_categorical_accuracy: 0.9907 - val_loss: 0.3879 - val_D0_loss: 0.0620 - val_D1_loss: 0.0332 - val_D2_loss: 0.1234 - val_D3_loss: 0.1298 - val_D4_loss: 0.0395 - val_D0_categorical_accuracy: 0.9953 - val_D1_categorical_accuracy: 0.9907 - val_D2_categorical_accuracy: 0.9720 - val_D3_categorical_accuracy: 0.9813 - val_D4_categorical_accuracy: 0.9907\n",
            "Epoch 114/150\n",
            "856/856 [==============================] - 11s 13ms/step - loss: 0.1286 - D0_loss: 0.0409 - D1_loss: 0.0159 - D2_loss: 0.0336 - D3_loss: 0.0152 - D4_loss: 0.0229 - D0_categorical_accuracy: 0.9907 - D1_categorical_accuracy: 0.9942 - D2_categorical_accuracy: 0.9883 - D3_categorical_accuracy: 0.9965 - D4_categorical_accuracy: 0.9907 - val_loss: 0.4996 - val_D0_loss: 0.0477 - val_D1_loss: 0.0432 - val_D2_loss: 0.1868 - val_D3_loss: 0.1839 - val_D4_loss: 0.0381 - val_D0_categorical_accuracy: 0.9953 - val_D1_categorical_accuracy: 0.9907 - val_D2_categorical_accuracy: 0.9673 - val_D3_categorical_accuracy: 0.9673 - val_D4_categorical_accuracy: 0.9860\n",
            "Epoch 115/150\n",
            "856/856 [==============================] - 11s 13ms/step - loss: 0.1032 - D0_loss: 0.0297 - D1_loss: 0.0144 - D2_loss: 0.0167 - D3_loss: 0.0209 - D4_loss: 0.0215 - D0_categorical_accuracy: 0.9930 - D1_categorical_accuracy: 0.9942 - D2_categorical_accuracy: 0.9953 - D3_categorical_accuracy: 0.9930 - D4_categorical_accuracy: 0.9942 - val_loss: 0.4445 - val_D0_loss: 0.0552 - val_D1_loss: 0.0328 - val_D2_loss: 0.1113 - val_D3_loss: 0.1652 - val_D4_loss: 0.0800 - val_D0_categorical_accuracy: 0.9953 - val_D1_categorical_accuracy: 0.9907 - val_D2_categorical_accuracy: 0.9720 - val_D3_categorical_accuracy: 0.9673 - val_D4_categorical_accuracy: 0.9860\n",
            "Epoch 116/150\n",
            "856/856 [==============================] - 11s 13ms/step - loss: 0.1505 - D0_loss: 0.0282 - D1_loss: 0.0102 - D2_loss: 0.0296 - D3_loss: 0.0404 - D4_loss: 0.0420 - D0_categorical_accuracy: 0.9918 - D1_categorical_accuracy: 0.9988 - D2_categorical_accuracy: 0.9871 - D3_categorical_accuracy: 0.9860 - D4_categorical_accuracy: 0.9883 - val_loss: 0.5585 - val_D0_loss: 0.0215 - val_D1_loss: 0.0195 - val_D2_loss: 0.2041 - val_D3_loss: 0.2121 - val_D4_loss: 0.1013 - val_D0_categorical_accuracy: 0.9953 - val_D1_categorical_accuracy: 0.9953 - val_D2_categorical_accuracy: 0.9673 - val_D3_categorical_accuracy: 0.9720 - val_D4_categorical_accuracy: 0.9813\n",
            "Epoch 117/150\n",
            "856/856 [==============================] - 11s 13ms/step - loss: 0.1295 - D0_loss: 0.0238 - D1_loss: 0.0102 - D2_loss: 0.0457 - D3_loss: 0.0346 - D4_loss: 0.0153 - D0_categorical_accuracy: 0.9942 - D1_categorical_accuracy: 0.9977 - D2_categorical_accuracy: 0.9860 - D3_categorical_accuracy: 0.9907 - D4_categorical_accuracy: 0.9953 - val_loss: 0.4877 - val_D0_loss: 0.0447 - val_D1_loss: 0.0103 - val_D2_loss: 0.1667 - val_D3_loss: 0.2021 - val_D4_loss: 0.0639 - val_D0_categorical_accuracy: 0.9907 - val_D1_categorical_accuracy: 0.9953 - val_D2_categorical_accuracy: 0.9673 - val_D3_categorical_accuracy: 0.9720 - val_D4_categorical_accuracy: 0.9813\n",
            "Epoch 118/150\n",
            "856/856 [==============================] - 11s 13ms/step - loss: 0.0795 - D0_loss: 0.0063 - D1_loss: 0.0211 - D2_loss: 0.0171 - D3_loss: 0.0287 - D4_loss: 0.0063 - D0_categorical_accuracy: 0.9977 - D1_categorical_accuracy: 0.9918 - D2_categorical_accuracy: 0.9907 - D3_categorical_accuracy: 0.9895 - D4_categorical_accuracy: 0.9977 - val_loss: 0.4052 - val_D0_loss: 0.0325 - val_D1_loss: 0.0273 - val_D2_loss: 0.0896 - val_D3_loss: 0.1648 - val_D4_loss: 0.0909 - val_D0_categorical_accuracy: 0.9907 - val_D1_categorical_accuracy: 0.9907 - val_D2_categorical_accuracy: 0.9766 - val_D3_categorical_accuracy: 0.9626 - val_D4_categorical_accuracy: 0.9720\n",
            "Epoch 119/150\n",
            "856/856 [==============================] - 11s 13ms/step - loss: 0.1216 - D0_loss: 0.0144 - D1_loss: 0.0189 - D2_loss: 0.0147 - D3_loss: 0.0443 - D4_loss: 0.0292 - D0_categorical_accuracy: 0.9942 - D1_categorical_accuracy: 0.9953 - D2_categorical_accuracy: 0.9953 - D3_categorical_accuracy: 0.9895 - D4_categorical_accuracy: 0.9918 - val_loss: 0.5009 - val_D0_loss: 0.0288 - val_D1_loss: 0.0148 - val_D2_loss: 0.1536 - val_D3_loss: 0.1989 - val_D4_loss: 0.1047 - val_D0_categorical_accuracy: 0.9953 - val_D1_categorical_accuracy: 0.9953 - val_D2_categorical_accuracy: 0.9673 - val_D3_categorical_accuracy: 0.9673 - val_D4_categorical_accuracy: 0.9860\n",
            "Epoch 120/150\n",
            "856/856 [==============================] - 11s 13ms/step - loss: 0.0853 - D0_loss: 0.0034 - D1_loss: 0.0196 - D2_loss: 0.0159 - D3_loss: 0.0206 - D4_loss: 0.0258 - D0_categorical_accuracy: 1.0000 - D1_categorical_accuracy: 0.9930 - D2_categorical_accuracy: 0.9953 - D3_categorical_accuracy: 0.9918 - D4_categorical_accuracy: 0.9895 - val_loss: 0.4334 - val_D0_loss: 0.0130 - val_D1_loss: 0.0072 - val_D2_loss: 0.1247 - val_D3_loss: 0.1967 - val_D4_loss: 0.0918 - val_D0_categorical_accuracy: 0.9953 - val_D1_categorical_accuracy: 1.0000 - val_D2_categorical_accuracy: 0.9720 - val_D3_categorical_accuracy: 0.9626 - val_D4_categorical_accuracy: 0.9766\n",
            "Epoch 121/150\n",
            "856/856 [==============================] - 11s 13ms/step - loss: 0.0595 - D0_loss: 0.0114 - D1_loss: 0.0157 - D2_loss: 0.0187 - D3_loss: 0.0081 - D4_loss: 0.0056 - D0_categorical_accuracy: 0.9977 - D1_categorical_accuracy: 0.9942 - D2_categorical_accuracy: 0.9918 - D3_categorical_accuracy: 0.9953 - D4_categorical_accuracy: 0.9977 - val_loss: 0.6885 - val_D0_loss: 0.0402 - val_D1_loss: 0.0639 - val_D2_loss: 0.1859 - val_D3_loss: 0.3520 - val_D4_loss: 0.0466 - val_D0_categorical_accuracy: 0.9953 - val_D1_categorical_accuracy: 0.9907 - val_D2_categorical_accuracy: 0.9673 - val_D3_categorical_accuracy: 0.9533 - val_D4_categorical_accuracy: 0.9907\n",
            "Epoch 122/150\n",
            "856/856 [==============================] - 12s 13ms/step - loss: 0.0835 - D0_loss: 0.0071 - D1_loss: 0.0171 - D2_loss: 0.0275 - D3_loss: 0.0220 - D4_loss: 0.0098 - D0_categorical_accuracy: 0.9977 - D1_categorical_accuracy: 0.9930 - D2_categorical_accuracy: 0.9930 - D3_categorical_accuracy: 0.9942 - D4_categorical_accuracy: 0.9953 - val_loss: 0.4557 - val_D0_loss: 0.0090 - val_D1_loss: 0.0295 - val_D2_loss: 0.1929 - val_D3_loss: 0.1695 - val_D4_loss: 0.0547 - val_D0_categorical_accuracy: 0.9953 - val_D1_categorical_accuracy: 0.9907 - val_D2_categorical_accuracy: 0.9720 - val_D3_categorical_accuracy: 0.9720 - val_D4_categorical_accuracy: 0.9813\n",
            "Epoch 123/150\n",
            "856/856 [==============================] - 11s 13ms/step - loss: 0.0889 - D0_loss: 0.0159 - D1_loss: 0.0113 - D2_loss: 0.0328 - D3_loss: 0.0207 - D4_loss: 0.0082 - D0_categorical_accuracy: 0.9907 - D1_categorical_accuracy: 0.9977 - D2_categorical_accuracy: 0.9871 - D3_categorical_accuracy: 0.9942 - D4_categorical_accuracy: 0.9977 - val_loss: 0.4494 - val_D0_loss: 0.0251 - val_D1_loss: 0.0530 - val_D2_loss: 0.1558 - val_D3_loss: 0.1918 - val_D4_loss: 0.0237 - val_D0_categorical_accuracy: 0.9953 - val_D1_categorical_accuracy: 0.9907 - val_D2_categorical_accuracy: 0.9673 - val_D3_categorical_accuracy: 0.9673 - val_D4_categorical_accuracy: 0.9953\n",
            "Epoch 124/150\n",
            "856/856 [==============================] - 11s 13ms/step - loss: 0.0964 - D0_loss: 0.0252 - D1_loss: 0.0183 - D2_loss: 0.0202 - D3_loss: 0.0219 - D4_loss: 0.0107 - D0_categorical_accuracy: 0.9883 - D1_categorical_accuracy: 0.9942 - D2_categorical_accuracy: 0.9895 - D3_categorical_accuracy: 0.9918 - D4_categorical_accuracy: 0.9965 - val_loss: 0.5986 - val_D0_loss: 0.0192 - val_D1_loss: 0.0999 - val_D2_loss: 0.1921 - val_D3_loss: 0.1914 - val_D4_loss: 0.0959 - val_D0_categorical_accuracy: 0.9907 - val_D1_categorical_accuracy: 0.9907 - val_D2_categorical_accuracy: 0.9626 - val_D3_categorical_accuracy: 0.9673 - val_D4_categorical_accuracy: 0.9860\n",
            "Epoch 125/150\n",
            "856/856 [==============================] - 11s 13ms/step - loss: 0.0654 - D0_loss: 0.0155 - D1_loss: 0.0163 - D2_loss: 0.0123 - D3_loss: 0.0112 - D4_loss: 0.0101 - D0_categorical_accuracy: 0.9942 - D1_categorical_accuracy: 0.9930 - D2_categorical_accuracy: 0.9953 - D3_categorical_accuracy: 0.9965 - D4_categorical_accuracy: 0.9942 - val_loss: 0.5075 - val_D0_loss: 0.0159 - val_D1_loss: 0.0747 - val_D2_loss: 0.1938 - val_D3_loss: 0.1513 - val_D4_loss: 0.0717 - val_D0_categorical_accuracy: 0.9907 - val_D1_categorical_accuracy: 0.9860 - val_D2_categorical_accuracy: 0.9626 - val_D3_categorical_accuracy: 0.9673 - val_D4_categorical_accuracy: 0.9907\n",
            "Epoch 126/150\n",
            "856/856 [==============================] - 11s 13ms/step - loss: 0.0804 - D0_loss: 0.0112 - D1_loss: 0.0093 - D2_loss: 0.0395 - D3_loss: 0.0149 - D4_loss: 0.0056 - D0_categorical_accuracy: 0.9953 - D1_categorical_accuracy: 0.9977 - D2_categorical_accuracy: 0.9883 - D3_categorical_accuracy: 0.9930 - D4_categorical_accuracy: 0.9977 - val_loss: 0.4724 - val_D0_loss: 0.0409 - val_D1_loss: 0.0268 - val_D2_loss: 0.1871 - val_D3_loss: 0.1320 - val_D4_loss: 0.0855 - val_D0_categorical_accuracy: 0.9907 - val_D1_categorical_accuracy: 0.9907 - val_D2_categorical_accuracy: 0.9626 - val_D3_categorical_accuracy: 0.9579 - val_D4_categorical_accuracy: 0.9907\n",
            "Epoch 127/150\n",
            "856/856 [==============================] - 11s 13ms/step - loss: 0.0845 - D0_loss: 0.0099 - D1_loss: 0.0211 - D2_loss: 0.0246 - D3_loss: 0.0064 - D4_loss: 0.0225 - D0_categorical_accuracy: 0.9977 - D1_categorical_accuracy: 0.9942 - D2_categorical_accuracy: 0.9930 - D3_categorical_accuracy: 0.9988 - D4_categorical_accuracy: 0.9918 - val_loss: 0.5083 - val_D0_loss: 0.0324 - val_D1_loss: 0.0764 - val_D2_loss: 0.2053 - val_D3_loss: 0.1488 - val_D4_loss: 0.0455 - val_D0_categorical_accuracy: 0.9907 - val_D1_categorical_accuracy: 0.9860 - val_D2_categorical_accuracy: 0.9626 - val_D3_categorical_accuracy: 0.9533 - val_D4_categorical_accuracy: 0.9907\n",
            "Epoch 128/150\n",
            "856/856 [==============================] - 11s 13ms/step - loss: 0.0770 - D0_loss: 0.0122 - D1_loss: 0.0050 - D2_loss: 0.0106 - D3_loss: 0.0201 - D4_loss: 0.0290 - D0_categorical_accuracy: 0.9965 - D1_categorical_accuracy: 0.9988 - D2_categorical_accuracy: 0.9953 - D3_categorical_accuracy: 0.9942 - D4_categorical_accuracy: 0.9895 - val_loss: 0.6261 - val_D0_loss: 0.0588 - val_D1_loss: 0.0782 - val_D2_loss: 0.2680 - val_D3_loss: 0.1972 - val_D4_loss: 0.0240 - val_D0_categorical_accuracy: 0.9860 - val_D1_categorical_accuracy: 0.9813 - val_D2_categorical_accuracy: 0.9673 - val_D3_categorical_accuracy: 0.9579 - val_D4_categorical_accuracy: 0.9907\n",
            "Epoch 129/150\n",
            "856/856 [==============================] - 11s 13ms/step - loss: 0.1030 - D0_loss: 0.0062 - D1_loss: 0.0177 - D2_loss: 0.0476 - D3_loss: 0.0136 - D4_loss: 0.0179 - D0_categorical_accuracy: 0.9977 - D1_categorical_accuracy: 0.9953 - D2_categorical_accuracy: 0.9895 - D3_categorical_accuracy: 0.9953 - D4_categorical_accuracy: 0.9953 - val_loss: 0.6425 - val_D0_loss: 0.0848 - val_D1_loss: 0.0690 - val_D2_loss: 0.2513 - val_D3_loss: 0.1962 - val_D4_loss: 0.0411 - val_D0_categorical_accuracy: 0.9813 - val_D1_categorical_accuracy: 0.9860 - val_D2_categorical_accuracy: 0.9626 - val_D3_categorical_accuracy: 0.9673 - val_D4_categorical_accuracy: 0.9953\n",
            "Epoch 130/150\n",
            "856/856 [==============================] - 11s 13ms/step - loss: 0.1203 - D0_loss: 0.0325 - D1_loss: 0.0297 - D2_loss: 0.0201 - D3_loss: 0.0206 - D4_loss: 0.0174 - D0_categorical_accuracy: 0.9883 - D1_categorical_accuracy: 0.9871 - D2_categorical_accuracy: 0.9918 - D3_categorical_accuracy: 0.9942 - D4_categorical_accuracy: 0.9930 - val_loss: 0.5634 - val_D0_loss: 0.0253 - val_D1_loss: 0.0585 - val_D2_loss: 0.2364 - val_D3_loss: 0.1944 - val_D4_loss: 0.0488 - val_D0_categorical_accuracy: 0.9953 - val_D1_categorical_accuracy: 0.9860 - val_D2_categorical_accuracy: 0.9673 - val_D3_categorical_accuracy: 0.9673 - val_D4_categorical_accuracy: 0.9860\n",
            "Epoch 131/150\n",
            "856/856 [==============================] - 11s 13ms/step - loss: 0.1164 - D0_loss: 0.0173 - D1_loss: 0.0190 - D2_loss: 0.0360 - D3_loss: 0.0256 - D4_loss: 0.0186 - D0_categorical_accuracy: 0.9977 - D1_categorical_accuracy: 0.9907 - D2_categorical_accuracy: 0.9883 - D3_categorical_accuracy: 0.9930 - D4_categorical_accuracy: 0.9953 - val_loss: 0.5245 - val_D0_loss: 0.0221 - val_D1_loss: 0.0719 - val_D2_loss: 0.2317 - val_D3_loss: 0.1649 - val_D4_loss: 0.0339 - val_D0_categorical_accuracy: 0.9953 - val_D1_categorical_accuracy: 0.9860 - val_D2_categorical_accuracy: 0.9673 - val_D3_categorical_accuracy: 0.9626 - val_D4_categorical_accuracy: 0.9860\n",
            "Epoch 132/150\n",
            "856/856 [==============================] - 11s 13ms/step - loss: 0.0974 - D0_loss: 0.0222 - D1_loss: 0.0108 - D2_loss: 0.0131 - D3_loss: 0.0437 - D4_loss: 0.0077 - D0_categorical_accuracy: 0.9918 - D1_categorical_accuracy: 0.9977 - D2_categorical_accuracy: 0.9942 - D3_categorical_accuracy: 0.9871 - D4_categorical_accuracy: 0.9977 - val_loss: 0.5482 - val_D0_loss: 0.0429 - val_D1_loss: 0.0743 - val_D2_loss: 0.1922 - val_D3_loss: 0.1805 - val_D4_loss: 0.0582 - val_D0_categorical_accuracy: 0.9953 - val_D1_categorical_accuracy: 0.9813 - val_D2_categorical_accuracy: 0.9673 - val_D3_categorical_accuracy: 0.9579 - val_D4_categorical_accuracy: 0.9860\n",
            "Epoch 133/150\n",
            "856/856 [==============================] - 12s 14ms/step - loss: 0.1016 - D0_loss: 0.0144 - D1_loss: 0.0100 - D2_loss: 0.0143 - D3_loss: 0.0075 - D4_loss: 0.0555 - D0_categorical_accuracy: 0.9953 - D1_categorical_accuracy: 0.9942 - D2_categorical_accuracy: 0.9953 - D3_categorical_accuracy: 0.9977 - D4_categorical_accuracy: 0.9871 - val_loss: 0.5980 - val_D0_loss: 0.0335 - val_D1_loss: 0.1339 - val_D2_loss: 0.1444 - val_D3_loss: 0.2327 - val_D4_loss: 0.0534 - val_D0_categorical_accuracy: 0.9953 - val_D1_categorical_accuracy: 0.9766 - val_D2_categorical_accuracy: 0.9673 - val_D3_categorical_accuracy: 0.9579 - val_D4_categorical_accuracy: 0.9860\n",
            "Epoch 134/150\n",
            "856/856 [==============================] - 11s 13ms/step - loss: 0.1267 - D0_loss: 0.0193 - D1_loss: 0.0103 - D2_loss: 0.0332 - D3_loss: 0.0230 - D4_loss: 0.0409 - D0_categorical_accuracy: 0.9918 - D1_categorical_accuracy: 0.9977 - D2_categorical_accuracy: 0.9918 - D3_categorical_accuracy: 0.9930 - D4_categorical_accuracy: 0.9918 - val_loss: 0.5329 - val_D0_loss: 0.0424 - val_D1_loss: 0.1103 - val_D2_loss: 0.1612 - val_D3_loss: 0.1787 - val_D4_loss: 0.0402 - val_D0_categorical_accuracy: 0.9907 - val_D1_categorical_accuracy: 0.9813 - val_D2_categorical_accuracy: 0.9766 - val_D3_categorical_accuracy: 0.9533 - val_D4_categorical_accuracy: 0.9907\n",
            "Epoch 135/150\n",
            "856/856 [==============================] - 11s 13ms/step - loss: 0.1258 - D0_loss: 0.0100 - D1_loss: 0.0123 - D2_loss: 0.0307 - D3_loss: 0.0318 - D4_loss: 0.0409 - D0_categorical_accuracy: 0.9953 - D1_categorical_accuracy: 0.9953 - D2_categorical_accuracy: 0.9895 - D3_categorical_accuracy: 0.9883 - D4_categorical_accuracy: 0.9883 - val_loss: 0.6315 - val_D0_loss: 0.0363 - val_D1_loss: 0.0984 - val_D2_loss: 0.2202 - val_D3_loss: 0.2072 - val_D4_loss: 0.0694 - val_D0_categorical_accuracy: 0.9953 - val_D1_categorical_accuracy: 0.9813 - val_D2_categorical_accuracy: 0.9626 - val_D3_categorical_accuracy: 0.9626 - val_D4_categorical_accuracy: 0.9813\n",
            "Epoch 136/150\n",
            "856/856 [==============================] - 11s 13ms/step - loss: 0.1318 - D0_loss: 0.0254 - D1_loss: 0.0209 - D2_loss: 0.0254 - D3_loss: 0.0543 - D4_loss: 0.0058 - D0_categorical_accuracy: 0.9930 - D1_categorical_accuracy: 0.9918 - D2_categorical_accuracy: 0.9918 - D3_categorical_accuracy: 0.9813 - D4_categorical_accuracy: 0.9988 - val_loss: 0.5367 - val_D0_loss: 0.0454 - val_D1_loss: 0.1188 - val_D2_loss: 0.1340 - val_D3_loss: 0.2130 - val_D4_loss: 0.0255 - val_D0_categorical_accuracy: 0.9860 - val_D1_categorical_accuracy: 0.9766 - val_D2_categorical_accuracy: 0.9766 - val_D3_categorical_accuracy: 0.9579 - val_D4_categorical_accuracy: 0.9907\n",
            "Epoch 137/150\n",
            "856/856 [==============================] - 11s 13ms/step - loss: 0.1157 - D0_loss: 0.0270 - D1_loss: 0.0232 - D2_loss: 0.0270 - D3_loss: 0.0200 - D4_loss: 0.0185 - D0_categorical_accuracy: 0.9918 - D1_categorical_accuracy: 0.9953 - D2_categorical_accuracy: 0.9942 - D3_categorical_accuracy: 0.9930 - D4_categorical_accuracy: 0.9918 - val_loss: 0.5168 - val_D0_loss: 0.0499 - val_D1_loss: 0.0853 - val_D2_loss: 0.1478 - val_D3_loss: 0.1661 - val_D4_loss: 0.0678 - val_D0_categorical_accuracy: 0.9907 - val_D1_categorical_accuracy: 0.9766 - val_D2_categorical_accuracy: 0.9813 - val_D3_categorical_accuracy: 0.9626 - val_D4_categorical_accuracy: 0.9766\n",
            "Epoch 138/150\n",
            "856/856 [==============================] - 11s 13ms/step - loss: 0.1047 - D0_loss: 0.0155 - D1_loss: 0.0237 - D2_loss: 0.0159 - D3_loss: 0.0277 - D4_loss: 0.0218 - D0_categorical_accuracy: 0.9965 - D1_categorical_accuracy: 0.9930 - D2_categorical_accuracy: 0.9953 - D3_categorical_accuracy: 0.9918 - D4_categorical_accuracy: 0.9942 - val_loss: 0.3888 - val_D0_loss: 0.0227 - val_D1_loss: 0.0351 - val_D2_loss: 0.2176 - val_D3_loss: 0.0992 - val_D4_loss: 0.0141 - val_D0_categorical_accuracy: 0.9953 - val_D1_categorical_accuracy: 0.9907 - val_D2_categorical_accuracy: 0.9720 - val_D3_categorical_accuracy: 0.9673 - val_D4_categorical_accuracy: 1.0000\n",
            "Epoch 139/150\n",
            "856/856 [==============================] - 11s 13ms/step - loss: 0.0893 - D0_loss: 0.0173 - D1_loss: 0.0134 - D2_loss: 0.0196 - D3_loss: 0.0193 - D4_loss: 0.0196 - D0_categorical_accuracy: 0.9942 - D1_categorical_accuracy: 0.9965 - D2_categorical_accuracy: 0.9953 - D3_categorical_accuracy: 0.9942 - D4_categorical_accuracy: 0.9942 - val_loss: 0.5113 - val_D0_loss: 0.0295 - val_D1_loss: 0.0929 - val_D2_loss: 0.2017 - val_D3_loss: 0.1333 - val_D4_loss: 0.0538 - val_D0_categorical_accuracy: 0.9953 - val_D1_categorical_accuracy: 0.9860 - val_D2_categorical_accuracy: 0.9579 - val_D3_categorical_accuracy: 0.9720 - val_D4_categorical_accuracy: 0.9860\n",
            "Epoch 140/150\n",
            "856/856 [==============================] - 11s 13ms/step - loss: 0.1376 - D0_loss: 0.0207 - D1_loss: 0.0150 - D2_loss: 0.0354 - D3_loss: 0.0340 - D4_loss: 0.0326 - D0_categorical_accuracy: 0.9930 - D1_categorical_accuracy: 0.9965 - D2_categorical_accuracy: 0.9883 - D3_categorical_accuracy: 0.9883 - D4_categorical_accuracy: 0.9907 - val_loss: 0.5607 - val_D0_loss: 0.0673 - val_D1_loss: 0.0927 - val_D2_loss: 0.2030 - val_D3_loss: 0.1879 - val_D4_loss: 0.0098 - val_D0_categorical_accuracy: 0.9907 - val_D1_categorical_accuracy: 0.9860 - val_D2_categorical_accuracy: 0.9673 - val_D3_categorical_accuracy: 0.9626 - val_D4_categorical_accuracy: 0.9953\n",
            "Epoch 141/150\n",
            "856/856 [==============================] - 11s 13ms/step - loss: 0.0764 - D0_loss: 0.0113 - D1_loss: 0.0134 - D2_loss: 0.0262 - D3_loss: 0.0134 - D4_loss: 0.0121 - D0_categorical_accuracy: 0.9942 - D1_categorical_accuracy: 0.9953 - D2_categorical_accuracy: 0.9918 - D3_categorical_accuracy: 0.9942 - D4_categorical_accuracy: 0.9965 - val_loss: 0.5921 - val_D0_loss: 0.0789 - val_D1_loss: 0.0884 - val_D2_loss: 0.1716 - val_D3_loss: 0.2052 - val_D4_loss: 0.0479 - val_D0_categorical_accuracy: 0.9953 - val_D1_categorical_accuracy: 0.9813 - val_D2_categorical_accuracy: 0.9673 - val_D3_categorical_accuracy: 0.9533 - val_D4_categorical_accuracy: 0.9860\n",
            "Epoch 142/150\n",
            "856/856 [==============================] - 11s 13ms/step - loss: 0.0793 - D0_loss: 0.0144 - D1_loss: 0.0113 - D2_loss: 0.0207 - D3_loss: 0.0170 - D4_loss: 0.0158 - D0_categorical_accuracy: 0.9965 - D1_categorical_accuracy: 0.9930 - D2_categorical_accuracy: 0.9907 - D3_categorical_accuracy: 0.9953 - D4_categorical_accuracy: 0.9953 - val_loss: 0.5509 - val_D0_loss: 0.0572 - val_D1_loss: 0.0480 - val_D2_loss: 0.1880 - val_D3_loss: 0.2069 - val_D4_loss: 0.0508 - val_D0_categorical_accuracy: 0.9953 - val_D1_categorical_accuracy: 0.9860 - val_D2_categorical_accuracy: 0.9766 - val_D3_categorical_accuracy: 0.9579 - val_D4_categorical_accuracy: 0.9813\n",
            "Epoch 143/150\n",
            "856/856 [==============================] - 11s 13ms/step - loss: 0.0925 - D0_loss: 0.0195 - D1_loss: 0.0149 - D2_loss: 0.0252 - D3_loss: 0.0241 - D4_loss: 0.0088 - D0_categorical_accuracy: 0.9953 - D1_categorical_accuracy: 0.9953 - D2_categorical_accuracy: 0.9883 - D3_categorical_accuracy: 0.9930 - D4_categorical_accuracy: 0.9977 - val_loss: 0.6082 - val_D0_loss: 0.0677 - val_D1_loss: 0.0780 - val_D2_loss: 0.1690 - val_D3_loss: 0.1856 - val_D4_loss: 0.1080 - val_D0_categorical_accuracy: 0.9953 - val_D1_categorical_accuracy: 0.9860 - val_D2_categorical_accuracy: 0.9673 - val_D3_categorical_accuracy: 0.9626 - val_D4_categorical_accuracy: 0.9813\n",
            "Epoch 144/150\n",
            "856/856 [==============================] - 11s 13ms/step - loss: 0.1285 - D0_loss: 0.0134 - D1_loss: 0.0214 - D2_loss: 0.0290 - D3_loss: 0.0499 - D4_loss: 0.0148 - D0_categorical_accuracy: 0.9942 - D1_categorical_accuracy: 0.9953 - D2_categorical_accuracy: 0.9918 - D3_categorical_accuracy: 0.9871 - D4_categorical_accuracy: 0.9930 - val_loss: 0.5350 - val_D0_loss: 0.0767 - val_D1_loss: 0.0397 - val_D2_loss: 0.2235 - val_D3_loss: 0.1615 - val_D4_loss: 0.0336 - val_D0_categorical_accuracy: 0.9953 - val_D1_categorical_accuracy: 0.9860 - val_D2_categorical_accuracy: 0.9673 - val_D3_categorical_accuracy: 0.9813 - val_D4_categorical_accuracy: 0.9860\n",
            "Epoch 145/150\n",
            "856/856 [==============================] - 12s 13ms/step - loss: 0.0990 - D0_loss: 0.0099 - D1_loss: 0.0187 - D2_loss: 0.0200 - D3_loss: 0.0214 - D4_loss: 0.0289 - D0_categorical_accuracy: 0.9977 - D1_categorical_accuracy: 0.9942 - D2_categorical_accuracy: 0.9953 - D3_categorical_accuracy: 0.9907 - D4_categorical_accuracy: 0.9907 - val_loss: 0.5510 - val_D0_loss: 0.0755 - val_D1_loss: 0.0556 - val_D2_loss: 0.1481 - val_D3_loss: 0.1950 - val_D4_loss: 0.0768 - val_D0_categorical_accuracy: 0.9953 - val_D1_categorical_accuracy: 0.9813 - val_D2_categorical_accuracy: 0.9720 - val_D3_categorical_accuracy: 0.9673 - val_D4_categorical_accuracy: 0.9813\n",
            "Epoch 146/150\n",
            "856/856 [==============================] - 11s 13ms/step - loss: 0.0556 - D0_loss: 0.0096 - D1_loss: 0.0134 - D2_loss: 0.0110 - D3_loss: 0.0105 - D4_loss: 0.0111 - D0_categorical_accuracy: 0.9965 - D1_categorical_accuracy: 0.9930 - D2_categorical_accuracy: 0.9953 - D3_categorical_accuracy: 0.9965 - D4_categorical_accuracy: 0.9977 - val_loss: 0.5873 - val_D0_loss: 0.0621 - val_D1_loss: 0.0458 - val_D2_loss: 0.2065 - val_D3_loss: 0.2306 - val_D4_loss: 0.0423 - val_D0_categorical_accuracy: 0.9953 - val_D1_categorical_accuracy: 0.9766 - val_D2_categorical_accuracy: 0.9673 - val_D3_categorical_accuracy: 0.9673 - val_D4_categorical_accuracy: 0.9907\n",
            "Epoch 147/150\n",
            "856/856 [==============================] - 11s 13ms/step - loss: 0.1062 - D0_loss: 0.0274 - D1_loss: 0.0191 - D2_loss: 0.0126 - D3_loss: 0.0248 - D4_loss: 0.0222 - D0_categorical_accuracy: 0.9942 - D1_categorical_accuracy: 0.9942 - D2_categorical_accuracy: 0.9977 - D3_categorical_accuracy: 0.9965 - D4_categorical_accuracy: 0.9930 - val_loss: 0.5226 - val_D0_loss: 0.0674 - val_D1_loss: 0.0264 - val_D2_loss: 0.1853 - val_D3_loss: 0.1982 - val_D4_loss: 0.0452 - val_D0_categorical_accuracy: 0.9953 - val_D1_categorical_accuracy: 0.9907 - val_D2_categorical_accuracy: 0.9720 - val_D3_categorical_accuracy: 0.9720 - val_D4_categorical_accuracy: 0.9907\n",
            "Epoch 148/150\n",
            "856/856 [==============================] - 11s 13ms/step - loss: 0.0804 - D0_loss: 0.0121 - D1_loss: 0.0162 - D2_loss: 0.0160 - D3_loss: 0.0209 - D4_loss: 0.0152 - D0_categorical_accuracy: 0.9953 - D1_categorical_accuracy: 0.9977 - D2_categorical_accuracy: 0.9942 - D3_categorical_accuracy: 0.9918 - D4_categorical_accuracy: 0.9953 - val_loss: 0.5000 - val_D0_loss: 0.0490 - val_D1_loss: 0.0201 - val_D2_loss: 0.1871 - val_D3_loss: 0.1810 - val_D4_loss: 0.0629 - val_D0_categorical_accuracy: 0.9953 - val_D1_categorical_accuracy: 0.9907 - val_D2_categorical_accuracy: 0.9673 - val_D3_categorical_accuracy: 0.9626 - val_D4_categorical_accuracy: 0.9813\n",
            "Epoch 149/150\n",
            "856/856 [==============================] - 11s 13ms/step - loss: 0.0772 - D0_loss: 0.0157 - D1_loss: 0.0052 - D2_loss: 0.0298 - D3_loss: 0.0094 - D4_loss: 0.0171 - D0_categorical_accuracy: 0.9942 - D1_categorical_accuracy: 0.9988 - D2_categorical_accuracy: 0.9895 - D3_categorical_accuracy: 0.9953 - D4_categorical_accuracy: 0.9965 - val_loss: 0.6408 - val_D0_loss: 0.0815 - val_D1_loss: 0.0901 - val_D2_loss: 0.2095 - val_D3_loss: 0.2189 - val_D4_loss: 0.0408 - val_D0_categorical_accuracy: 0.9907 - val_D1_categorical_accuracy: 0.9766 - val_D2_categorical_accuracy: 0.9579 - val_D3_categorical_accuracy: 0.9579 - val_D4_categorical_accuracy: 0.9813\n",
            "Epoch 150/150\n",
            "856/856 [==============================] - 11s 13ms/step - loss: 0.0841 - D0_loss: 0.0140 - D1_loss: 0.0046 - D2_loss: 0.0204 - D3_loss: 0.0169 - D4_loss: 0.0281 - D0_categorical_accuracy: 0.9965 - D1_categorical_accuracy: 0.9988 - D2_categorical_accuracy: 0.9918 - D3_categorical_accuracy: 0.9942 - D4_categorical_accuracy: 0.9895 - val_loss: 0.5926 - val_D0_loss: 0.0765 - val_D1_loss: 0.0312 - val_D2_loss: 0.2059 - val_D3_loss: 0.2107 - val_D4_loss: 0.0683 - val_D0_categorical_accuracy: 0.9953 - val_D1_categorical_accuracy: 0.9860 - val_D2_categorical_accuracy: 0.9720 - val_D3_categorical_accuracy: 0.9579 - val_D4_categorical_accuracy: 0.9860\n"
          ],
          "name": "stdout"
        }
      ]
    },
    {
      "metadata": {
        "id": "NbpTwySScOzr",
        "colab_type": "text"
      },
      "cell_type": "markdown",
      "source": [
        "We can save weights if we want"
      ]
    },
    {
      "metadata": {
        "id": "7cz06mp6YtvY",
        "colab_type": "code",
        "colab": {}
      },
      "cell_type": "code",
      "source": [
        "solver.save_weights('solver.hdf5')"
      ],
      "execution_count": 0,
      "outputs": []
    },
    {
      "metadata": {
        "id": "8qWApt5TcVli",
        "colab_type": "text"
      },
      "cell_type": "markdown",
      "source": [
        "Or load weights if we want"
      ]
    },
    {
      "metadata": {
        "id": "fsZSPFDEcXLj",
        "colab_type": "code",
        "colab": {}
      },
      "cell_type": "code",
      "source": [
        "solver.load_weights('solver.hdf5')"
      ],
      "execution_count": 0,
      "outputs": []
    },
    {
      "metadata": {
        "id": "o2O1UX8wcY9K",
        "colab_type": "text"
      },
      "cell_type": "markdown",
      "source": [
        "Let us see what the incorrectly labeled captchas look like"
      ]
    },
    {
      "metadata": {
        "id": "LUYaDiwZVz79",
        "colab_type": "code",
        "colab": {
          "base_uri": "https://localhost:8080/",
          "height": 668
        },
        "outputId": "aeef61cd-c32f-46ae-ce67-337d1d9173b6"
      },
      "cell_type": "code",
      "source": [
        "solver.evaluate(X_test, \n",
        "           Y_test, \n",
        "           batch_size=8, \n",
        "           verbose=1)\n",
        "\n",
        "Y_pred = solver.predict(X_test)\n",
        "\n",
        "def contendors(y):\n",
        "    top = y.argsort()[-3:][::-1]\n",
        "    return ', '.join([character(x) + \"(\" + (\"%2.1f%%\" % (100.0 * y[x])) + \")\" for x in top])\n",
        "\n",
        "i = 0\n",
        "for y_test, y_pred in zip(combine_fun(Y_test), combine_fun(Y_pred)):\n",
        "    label_test = get_label(y_test)\n",
        "    label_pred = get_label(y_pred)\n",
        "    if label_test != label_pred:\n",
        "        i = i + 1        \n",
        "        print(i, \"Wrong: \", label_test, label_pred)\n",
        "        for j in range(len(label_test)):\n",
        "            if label_test[j] != label_pred[j]:\n",
        "                print('\\tposition', str(j+1) + ',', contendors(np.split(y_pred, CHARACTERS)[j]))    "
      ],
      "execution_count": 70,
      "outputs": [
        {
          "output_type": "stream",
          "text": [
            "214/214 [==============================] - 1s 4ms/step\n",
            "1 Wrong:  wyc25 w4yc5\n",
            "\tposition 2, 4(46.7%), y(18.4%), f(17.4%)\n",
            "\tposition 3, y(99.7%), c(0.3%), e(0.0%)\n",
            "\tposition 4, c(73.1%), 2(26.9%), w(0.0%)\n",
            "2 Wrong:  c6f8g c6f8y\n",
            "\tposition 5, y(92.3%), p(4.9%), b(1.1%)\n",
            "3 Wrong:  bf52c bf5cc\n",
            "\tposition 4, c(95.8%), 2(4.2%), 3(0.0%)\n",
            "4 Wrong:  25257 25557\n",
            "\tposition 3, 5(99.9%), 2(0.1%), 3(0.0%)\n",
            "5 Wrong:  cx3wg ex3wg\n",
            "\tposition 1, e(99.6%), x(0.3%), w(0.0%)\n",
            "6 Wrong:  mmg38 mmgp8\n",
            "\tposition 4, p(79.1%), g(10.2%), 3(6.2%)\n",
            "7 Wrong:  ewcf5 ewc35\n",
            "\tposition 4, 3(91.3%), c(5.2%), g(1.4%)\n",
            "8 Wrong:  d22n7 d22m7\n",
            "\tposition 4, m(86.0%), n(10.0%), y(1.4%)\n",
            "9 Wrong:  mwdf6 mwwd6\n",
            "\tposition 3, w(100.0%), x(0.0%), 4(0.0%)\n",
            "\tposition 4, d(77.4%), w(22.4%), b(0.2%)\n",
            "10 Wrong:  mxyxw mxyww\n",
            "\tposition 4, w(80.7%), x(10.7%), c(6.9%)\n",
            "11 Wrong:  m4g8g m44w8\n",
            "\tposition 3, 4(91.3%), g(7.7%), x(0.7%)\n",
            "\tposition 4, w(81.3%), g(13.9%), 8(2.3%)\n",
            "\tposition 5, 8(99.6%), g(0.4%), n(0.0%)\n",
            "12 Wrong:  w52fn wp5fn\n",
            "\tposition 2, p(29.1%), f(25.6%), 5(18.4%)\n",
            "\tposition 3, 5(47.0%), p(37.7%), 2(7.0%)\n",
            "13 Wrong:  wxy4n wxy44\n",
            "\tposition 5, 4(78.0%), m(20.3%), n(1.5%)\n",
            "14 Wrong:  my84e mgy8e\n",
            "\tposition 2, g(94.7%), y(4.4%), f(0.5%)\n",
            "\tposition 3, y(99.5%), n(0.4%), f(0.0%)\n",
            "\tposition 4, 8(100.0%), w(0.0%), b(0.0%)\n"
          ],
          "name": "stdout"
        }
      ]
    }
  ]
}